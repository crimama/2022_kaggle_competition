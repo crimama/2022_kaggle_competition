{
 "cells": [
  {
   "cell_type": "markdown",
   "metadata": {
    "id": "lLLhXuxPspEK"
   },
   "source": [
    "#데이터 다운로드 "
   ]
  },
  {
   "cell_type": "code",
   "execution_count": null,
   "metadata": {
    "colab": {
     "base_uri": "https://localhost:8080/"
    },
    "executionInfo": {
     "elapsed": 32753,
     "status": "ok",
     "timestamp": 1657974134307,
     "user": {
      "displayName": "Hun",
      "userId": "07972583068794560208"
     },
     "user_tz": -540
    },
    "id": "FmwT6vVosxuy",
    "outputId": "d71760bd-8970-46e8-c30e-b7c201327ae1"
   },
   "outputs": [
    {
     "name": "stdout",
     "output_type": "stream",
     "text": [
      "/content/data\n",
      "Downloading tabular-playground-series-apr-2022.zip to /content/data\n",
      " 89% 153M/171M [00:05<00:00, 33.8MB/s]\n",
      "100% 171M/171M [00:05<00:00, 32.4MB/s]\n",
      "Archive:  tabular-playground-series-apr-2022.zip\n",
      "  inflating: sample_submission.csv   \n",
      "  inflating: test.csv                \n",
      "  inflating: train.csv               \n",
      "  inflating: train_labels.csv        \n"
     ]
    }
   ],
   "source": [
    "!cp /content/drive/MyDrive/kaggle.json ./\n",
    "\n",
    "\n",
    "!mkdir -p ~/.kaggle\n",
    "!cp kaggle.json ~/.kaggle\n",
    "!chmod 600 ~/.kaggle/kaggle.json\n",
    "!mkdir data \n",
    "%cd data \n",
    "!kaggle competitions download -c tabular-playground-series-apr-2022\n",
    "!unzip tabular-playground-series-apr-2022.zip "
   ]
  },
  {
   "cell_type": "code",
   "execution_count": null,
   "metadata": {
    "id": "9vSgo7_ltFJs"
   },
   "outputs": [],
   "source": [
    "import pandas as pd \n",
    "import numpy as np \n",
    "import matplotlib.pyplot as plt \n",
    "from glob import glob \n",
    "from tqdm import tqdm "
   ]
  },
  {
   "cell_type": "code",
   "execution_count": null,
   "metadata": {
    "id": "ZzD1IkPBs2KU"
   },
   "outputs": [],
   "source": [
    "file_dirs = glob('*.csv')\n",
    "\n",
    "df = []\n",
    "for dir in file_dirs:\n",
    "  exec(f\"{dir.split('.')[0]}=pd.read_csv('{dir}')\")\n",
    "  df.append(dir.split('.')[0])"
   ]
  },
  {
   "cell_type": "code",
   "execution_count": null,
   "metadata": {
    "colab": {
     "base_uri": "https://localhost:8080/",
     "height": 424
    },
    "executionInfo": {
     "elapsed": 731,
     "status": "ok",
     "timestamp": 1657974234163,
     "user": {
      "displayName": "Hun",
      "userId": "07972583068794560208"
     },
     "user_tz": -540
    },
    "id": "LJczINE1t8Ea",
    "outputId": "e3447845-3b73-4216-ac42-f56f0fc516b0"
   },
   "outputs": [
    {
     "data": {
      "text/html": [
       "\n",
       "  <div id=\"df-36af35a4-5699-4cf2-869c-930f9780d072\">\n",
       "    <div class=\"colab-df-container\">\n",
       "      <div>\n",
       "<style scoped>\n",
       "    .dataframe tbody tr th:only-of-type {\n",
       "        vertical-align: middle;\n",
       "    }\n",
       "\n",
       "    .dataframe tbody tr th {\n",
       "        vertical-align: top;\n",
       "    }\n",
       "\n",
       "    .dataframe thead th {\n",
       "        text-align: right;\n",
       "    }\n",
       "</style>\n",
       "<table border=\"1\" class=\"dataframe\">\n",
       "  <thead>\n",
       "    <tr style=\"text-align: right;\">\n",
       "      <th></th>\n",
       "      <th>sequence</th>\n",
       "      <th>subject</th>\n",
       "      <th>step</th>\n",
       "      <th>sensor_00</th>\n",
       "      <th>sensor_01</th>\n",
       "      <th>sensor_02</th>\n",
       "      <th>sensor_03</th>\n",
       "      <th>sensor_04</th>\n",
       "      <th>sensor_05</th>\n",
       "      <th>sensor_06</th>\n",
       "      <th>sensor_07</th>\n",
       "      <th>sensor_08</th>\n",
       "      <th>sensor_09</th>\n",
       "      <th>sensor_10</th>\n",
       "      <th>sensor_11</th>\n",
       "      <th>sensor_12</th>\n",
       "    </tr>\n",
       "  </thead>\n",
       "  <tbody>\n",
       "    <tr>\n",
       "      <th>0</th>\n",
       "      <td>0</td>\n",
       "      <td>47</td>\n",
       "      <td>0</td>\n",
       "      <td>-0.196291</td>\n",
       "      <td>0.112395</td>\n",
       "      <td>1.000000</td>\n",
       "      <td>0.329204</td>\n",
       "      <td>-1.004660</td>\n",
       "      <td>-0.131638</td>\n",
       "      <td>-0.127505</td>\n",
       "      <td>0.368702</td>\n",
       "      <td>-0.1</td>\n",
       "      <td>-0.963873</td>\n",
       "      <td>-0.985069</td>\n",
       "      <td>0.531893</td>\n",
       "      <td>4.751492</td>\n",
       "    </tr>\n",
       "    <tr>\n",
       "      <th>1</th>\n",
       "      <td>0</td>\n",
       "      <td>47</td>\n",
       "      <td>1</td>\n",
       "      <td>-0.447450</td>\n",
       "      <td>0.134454</td>\n",
       "      <td>1.000000</td>\n",
       "      <td>-0.658407</td>\n",
       "      <td>0.162495</td>\n",
       "      <td>0.340314</td>\n",
       "      <td>-0.209472</td>\n",
       "      <td>-0.867176</td>\n",
       "      <td>0.2</td>\n",
       "      <td>-0.301301</td>\n",
       "      <td>0.082733</td>\n",
       "      <td>-0.231481</td>\n",
       "      <td>0.454390</td>\n",
       "    </tr>\n",
       "    <tr>\n",
       "      <th>2</th>\n",
       "      <td>0</td>\n",
       "      <td>47</td>\n",
       "      <td>2</td>\n",
       "      <td>0.326893</td>\n",
       "      <td>-0.694328</td>\n",
       "      <td>1.000000</td>\n",
       "      <td>0.330088</td>\n",
       "      <td>0.473678</td>\n",
       "      <td>1.280479</td>\n",
       "      <td>-0.094718</td>\n",
       "      <td>0.535878</td>\n",
       "      <td>1.4</td>\n",
       "      <td>1.002168</td>\n",
       "      <td>0.449221</td>\n",
       "      <td>-0.586420</td>\n",
       "      <td>-4.736147</td>\n",
       "    </tr>\n",
       "    <tr>\n",
       "      <th>3</th>\n",
       "      <td>0</td>\n",
       "      <td>47</td>\n",
       "      <td>3</td>\n",
       "      <td>0.523184</td>\n",
       "      <td>0.751050</td>\n",
       "      <td>1.000000</td>\n",
       "      <td>0.976991</td>\n",
       "      <td>-0.563287</td>\n",
       "      <td>-0.720269</td>\n",
       "      <td>0.793260</td>\n",
       "      <td>0.951145</td>\n",
       "      <td>-0.3</td>\n",
       "      <td>-0.995665</td>\n",
       "      <td>-0.434290</td>\n",
       "      <td>1.344650</td>\n",
       "      <td>0.429241</td>\n",
       "    </tr>\n",
       "    <tr>\n",
       "      <th>4</th>\n",
       "      <td>0</td>\n",
       "      <td>47</td>\n",
       "      <td>4</td>\n",
       "      <td>0.272025</td>\n",
       "      <td>1.074580</td>\n",
       "      <td>1.000000</td>\n",
       "      <td>-0.136283</td>\n",
       "      <td>0.398579</td>\n",
       "      <td>0.044877</td>\n",
       "      <td>0.560109</td>\n",
       "      <td>-0.541985</td>\n",
       "      <td>-0.9</td>\n",
       "      <td>1.055636</td>\n",
       "      <td>0.812631</td>\n",
       "      <td>0.123457</td>\n",
       "      <td>-0.223359</td>\n",
       "    </tr>\n",
       "    <tr>\n",
       "      <th>...</th>\n",
       "      <td>...</td>\n",
       "      <td>...</td>\n",
       "      <td>...</td>\n",
       "      <td>...</td>\n",
       "      <td>...</td>\n",
       "      <td>...</td>\n",
       "      <td>...</td>\n",
       "      <td>...</td>\n",
       "      <td>...</td>\n",
       "      <td>...</td>\n",
       "      <td>...</td>\n",
       "      <td>...</td>\n",
       "      <td>...</td>\n",
       "      <td>...</td>\n",
       "      <td>...</td>\n",
       "      <td>...</td>\n",
       "    </tr>\n",
       "    <tr>\n",
       "      <th>1558075</th>\n",
       "      <td>25967</td>\n",
       "      <td>327</td>\n",
       "      <td>55</td>\n",
       "      <td>-0.282844</td>\n",
       "      <td>-1.217437</td>\n",
       "      <td>-1.666153</td>\n",
       "      <td>0.586726</td>\n",
       "      <td>-0.930698</td>\n",
       "      <td>-0.451010</td>\n",
       "      <td>-0.651184</td>\n",
       "      <td>0.368702</td>\n",
       "      <td>0.4</td>\n",
       "      <td>0.008671</td>\n",
       "      <td>-0.723536</td>\n",
       "      <td>-0.353909</td>\n",
       "      <td>-0.914749</td>\n",
       "    </tr>\n",
       "    <tr>\n",
       "      <th>1558076</th>\n",
       "      <td>25967</td>\n",
       "      <td>327</td>\n",
       "      <td>56</td>\n",
       "      <td>0.130603</td>\n",
       "      <td>0.349790</td>\n",
       "      <td>-1.666153</td>\n",
       "      <td>-0.324779</td>\n",
       "      <td>0.775324</td>\n",
       "      <td>-0.332835</td>\n",
       "      <td>0.099271</td>\n",
       "      <td>0.122137</td>\n",
       "      <td>-0.2</td>\n",
       "      <td>0.644509</td>\n",
       "      <td>0.691407</td>\n",
       "      <td>-0.613169</td>\n",
       "      <td>-0.515772</td>\n",
       "    </tr>\n",
       "    <tr>\n",
       "      <th>1558077</th>\n",
       "      <td>25967</td>\n",
       "      <td>327</td>\n",
       "      <td>57</td>\n",
       "      <td>-0.579598</td>\n",
       "      <td>0.429622</td>\n",
       "      <td>-1.666153</td>\n",
       "      <td>0.319469</td>\n",
       "      <td>0.308861</td>\n",
       "      <td>0.282723</td>\n",
       "      <td>-0.512750</td>\n",
       "      <td>0.012214</td>\n",
       "      <td>-1.6</td>\n",
       "      <td>-0.424133</td>\n",
       "      <td>0.716855</td>\n",
       "      <td>1.628601</td>\n",
       "      <td>0.928389</td>\n",
       "    </tr>\n",
       "    <tr>\n",
       "      <th>1558078</th>\n",
       "      <td>25967</td>\n",
       "      <td>327</td>\n",
       "      <td>58</td>\n",
       "      <td>1.278980</td>\n",
       "      <td>1.711134</td>\n",
       "      <td>-1.522820</td>\n",
       "      <td>0.802655</td>\n",
       "      <td>-0.460541</td>\n",
       "      <td>-0.055348</td>\n",
       "      <td>2.405282</td>\n",
       "      <td>0.043511</td>\n",
       "      <td>1.9</td>\n",
       "      <td>0.283960</td>\n",
       "      <td>-0.914914</td>\n",
       "      <td>0.364198</td>\n",
       "      <td>0.211424</td>\n",
       "    </tr>\n",
       "    <tr>\n",
       "      <th>1558079</th>\n",
       "      <td>25967</td>\n",
       "      <td>327</td>\n",
       "      <td>59</td>\n",
       "      <td>-1.136012</td>\n",
       "      <td>-3.702731</td>\n",
       "      <td>-1.332820</td>\n",
       "      <td>-0.766372</td>\n",
       "      <td>-0.430027</td>\n",
       "      <td>-0.091997</td>\n",
       "      <td>-2.512750</td>\n",
       "      <td>-0.022901</td>\n",
       "      <td>-1.1</td>\n",
       "      <td>-0.653902</td>\n",
       "      <td>-0.418516</td>\n",
       "      <td>-1.453704</td>\n",
       "      <td>-1.561381</td>\n",
       "    </tr>\n",
       "  </tbody>\n",
       "</table>\n",
       "<p>1558080 rows × 16 columns</p>\n",
       "</div>\n",
       "      <button class=\"colab-df-convert\" onclick=\"convertToInteractive('df-36af35a4-5699-4cf2-869c-930f9780d072')\"\n",
       "              title=\"Convert this dataframe to an interactive table.\"\n",
       "              style=\"display:none;\">\n",
       "        \n",
       "  <svg xmlns=\"http://www.w3.org/2000/svg\" height=\"24px\"viewBox=\"0 0 24 24\"\n",
       "       width=\"24px\">\n",
       "    <path d=\"M0 0h24v24H0V0z\" fill=\"none\"/>\n",
       "    <path d=\"M18.56 5.44l.94 2.06.94-2.06 2.06-.94-2.06-.94-.94-2.06-.94 2.06-2.06.94zm-11 1L8.5 8.5l.94-2.06 2.06-.94-2.06-.94L8.5 2.5l-.94 2.06-2.06.94zm10 10l.94 2.06.94-2.06 2.06-.94-2.06-.94-.94-2.06-.94 2.06-2.06.94z\"/><path d=\"M17.41 7.96l-1.37-1.37c-.4-.4-.92-.59-1.43-.59-.52 0-1.04.2-1.43.59L10.3 9.45l-7.72 7.72c-.78.78-.78 2.05 0 2.83L4 21.41c.39.39.9.59 1.41.59.51 0 1.02-.2 1.41-.59l7.78-7.78 2.81-2.81c.8-.78.8-2.07 0-2.86zM5.41 20L4 18.59l7.72-7.72 1.47 1.35L5.41 20z\"/>\n",
       "  </svg>\n",
       "      </button>\n",
       "      \n",
       "  <style>\n",
       "    .colab-df-container {\n",
       "      display:flex;\n",
       "      flex-wrap:wrap;\n",
       "      gap: 12px;\n",
       "    }\n",
       "\n",
       "    .colab-df-convert {\n",
       "      background-color: #E8F0FE;\n",
       "      border: none;\n",
       "      border-radius: 50%;\n",
       "      cursor: pointer;\n",
       "      display: none;\n",
       "      fill: #1967D2;\n",
       "      height: 32px;\n",
       "      padding: 0 0 0 0;\n",
       "      width: 32px;\n",
       "    }\n",
       "\n",
       "    .colab-df-convert:hover {\n",
       "      background-color: #E2EBFA;\n",
       "      box-shadow: 0px 1px 2px rgba(60, 64, 67, 0.3), 0px 1px 3px 1px rgba(60, 64, 67, 0.15);\n",
       "      fill: #174EA6;\n",
       "    }\n",
       "\n",
       "    [theme=dark] .colab-df-convert {\n",
       "      background-color: #3B4455;\n",
       "      fill: #D2E3FC;\n",
       "    }\n",
       "\n",
       "    [theme=dark] .colab-df-convert:hover {\n",
       "      background-color: #434B5C;\n",
       "      box-shadow: 0px 1px 3px 1px rgba(0, 0, 0, 0.15);\n",
       "      filter: drop-shadow(0px 1px 2px rgba(0, 0, 0, 0.3));\n",
       "      fill: #FFFFFF;\n",
       "    }\n",
       "  </style>\n",
       "\n",
       "      <script>\n",
       "        const buttonEl =\n",
       "          document.querySelector('#df-36af35a4-5699-4cf2-869c-930f9780d072 button.colab-df-convert');\n",
       "        buttonEl.style.display =\n",
       "          google.colab.kernel.accessAllowed ? 'block' : 'none';\n",
       "\n",
       "        async function convertToInteractive(key) {\n",
       "          const element = document.querySelector('#df-36af35a4-5699-4cf2-869c-930f9780d072');\n",
       "          const dataTable =\n",
       "            await google.colab.kernel.invokeFunction('convertToInteractive',\n",
       "                                                     [key], {});\n",
       "          if (!dataTable) return;\n",
       "\n",
       "          const docLinkHtml = 'Like what you see? Visit the ' +\n",
       "            '<a target=\"_blank\" href=https://colab.research.google.com/notebooks/data_table.ipynb>data table notebook</a>'\n",
       "            + ' to learn more about interactive tables.';\n",
       "          element.innerHTML = '';\n",
       "          dataTable['output_type'] = 'display_data';\n",
       "          await google.colab.output.renderOutput(dataTable, element);\n",
       "          const docLink = document.createElement('div');\n",
       "          docLink.innerHTML = docLinkHtml;\n",
       "          element.appendChild(docLink);\n",
       "        }\n",
       "      </script>\n",
       "    </div>\n",
       "  </div>\n",
       "  "
      ],
      "text/plain": [
       "         sequence  subject  step  sensor_00  sensor_01  sensor_02  sensor_03  \\\n",
       "0               0       47     0  -0.196291   0.112395   1.000000   0.329204   \n",
       "1               0       47     1  -0.447450   0.134454   1.000000  -0.658407   \n",
       "2               0       47     2   0.326893  -0.694328   1.000000   0.330088   \n",
       "3               0       47     3   0.523184   0.751050   1.000000   0.976991   \n",
       "4               0       47     4   0.272025   1.074580   1.000000  -0.136283   \n",
       "...           ...      ...   ...        ...        ...        ...        ...   \n",
       "1558075     25967      327    55  -0.282844  -1.217437  -1.666153   0.586726   \n",
       "1558076     25967      327    56   0.130603   0.349790  -1.666153  -0.324779   \n",
       "1558077     25967      327    57  -0.579598   0.429622  -1.666153   0.319469   \n",
       "1558078     25967      327    58   1.278980   1.711134  -1.522820   0.802655   \n",
       "1558079     25967      327    59  -1.136012  -3.702731  -1.332820  -0.766372   \n",
       "\n",
       "         sensor_04  sensor_05  sensor_06  sensor_07  sensor_08  sensor_09  \\\n",
       "0        -1.004660  -0.131638  -0.127505   0.368702       -0.1  -0.963873   \n",
       "1         0.162495   0.340314  -0.209472  -0.867176        0.2  -0.301301   \n",
       "2         0.473678   1.280479  -0.094718   0.535878        1.4   1.002168   \n",
       "3        -0.563287  -0.720269   0.793260   0.951145       -0.3  -0.995665   \n",
       "4         0.398579   0.044877   0.560109  -0.541985       -0.9   1.055636   \n",
       "...            ...        ...        ...        ...        ...        ...   \n",
       "1558075  -0.930698  -0.451010  -0.651184   0.368702        0.4   0.008671   \n",
       "1558076   0.775324  -0.332835   0.099271   0.122137       -0.2   0.644509   \n",
       "1558077   0.308861   0.282723  -0.512750   0.012214       -1.6  -0.424133   \n",
       "1558078  -0.460541  -0.055348   2.405282   0.043511        1.9   0.283960   \n",
       "1558079  -0.430027  -0.091997  -2.512750  -0.022901       -1.1  -0.653902   \n",
       "\n",
       "         sensor_10  sensor_11  sensor_12  \n",
       "0        -0.985069   0.531893   4.751492  \n",
       "1         0.082733  -0.231481   0.454390  \n",
       "2         0.449221  -0.586420  -4.736147  \n",
       "3        -0.434290   1.344650   0.429241  \n",
       "4         0.812631   0.123457  -0.223359  \n",
       "...            ...        ...        ...  \n",
       "1558075  -0.723536  -0.353909  -0.914749  \n",
       "1558076   0.691407  -0.613169  -0.515772  \n",
       "1558077   0.716855   1.628601   0.928389  \n",
       "1558078  -0.914914   0.364198   0.211424  \n",
       "1558079  -0.418516  -1.453704  -1.561381  \n",
       "\n",
       "[1558080 rows x 16 columns]"
      ]
     },
     "execution_count": 5,
     "metadata": {},
     "output_type": "execute_result"
    }
   ],
   "source": [
    "train"
   ]
  },
  {
   "cell_type": "markdown",
   "metadata": {
    "id": "gK3fBcw31TIR"
   },
   "source": [
    "# 데이터 전처리 "
   ]
  },
  {
   "cell_type": "markdown",
   "metadata": {
    "id": "oiWzuGqw1T5J"
   },
   "source": [
    "## 컬럼 제거 "
   ]
  },
  {
   "cell_type": "code",
   "execution_count": null,
   "metadata": {
    "id": "C13HmsM41Urp"
   },
   "outputs": [],
   "source": [
    "train.drop(columns = ['sequence','subject','step'],inplace=True)"
   ]
  },
  {
   "cell_type": "markdown",
   "metadata": {
    "id": "vlUS-mKG1eZm"
   },
   "source": [
    "## 결측치 제거 "
   ]
  },
  {
   "cell_type": "code",
   "execution_count": null,
   "metadata": {
    "colab": {
     "base_uri": "https://localhost:8080/"
    },
    "executionInfo": {
     "elapsed": 14,
     "status": "ok",
     "timestamp": 1657955590117,
     "user": {
      "displayName": "Hun",
      "userId": "07972583068794560208"
     },
     "user_tz": -540
    },
    "id": "yQFSRy_K1g4X",
    "outputId": "060fb5ea-42d3-4b4a-a531-d643834c0999"
   },
   "outputs": [
    {
     "data": {
      "text/plain": [
       "sensor_00    0\n",
       "sensor_01    0\n",
       "sensor_02    0\n",
       "sensor_03    0\n",
       "sensor_04    0\n",
       "sensor_05    0\n",
       "sensor_06    0\n",
       "sensor_07    0\n",
       "sensor_08    0\n",
       "sensor_09    0\n",
       "sensor_10    0\n",
       "sensor_11    0\n",
       "sensor_12    0\n",
       "dtype: int64"
      ]
     },
     "execution_count": 31,
     "metadata": {},
     "output_type": "execute_result"
    }
   ],
   "source": [
    "train.isnull().sum()"
   ]
  },
  {
   "cell_type": "markdown",
   "metadata": {
    "id": "ZqYS0KlECLoH"
   },
   "source": [
    "## 이상치 확인 \n",
    "- 그냥 민맥스로 스케일링 하니 이상하다 \n",
    "- 로버스트 스케일링을 해도 되지만 이번에는 민맥스를 하고 싶다\n",
    "- 그래서 아웃라이어를 쳐낼 필요가 있을 것 같다 \n",
    "- 가장 기본적인 IQR방법으로 아웃라이어를 쳐내기로 한다 \n",
    "- 근데 그럴 필요 없이 그냥 로버스트 스케일링을 하면 될 것 같다 \n",
    "- 아니다 이상치를 처내고 안처내고 스케일링이 다르다 이상치를 직접 처내기로 한다 "
   ]
  },
  {
   "cell_type": "code",
   "execution_count": null,
   "metadata": {
    "id": "5x5DNJmp-DC_"
   },
   "outputs": [],
   "source": [
    "sample = np.array(train['sensor_00'])\n",
    "scaled_sample = minmax(sample)"
   ]
  },
  {
   "cell_type": "code",
   "execution_count": null,
   "metadata": {
    "colab": {
     "base_uri": "https://localhost:8080/",
     "height": 276
    },
    "executionInfo": {
     "elapsed": 723,
     "status": "ok",
     "timestamp": 1657974994976,
     "user": {
      "displayName": "Hun",
      "userId": "07972583068794560208"
     },
     "user_tz": -540
    },
    "id": "iEFCbseZAoRA",
    "outputId": "17a14d54-3550-4b05-80b4-ff490d980cfd"
   },
   "outputs": [
    {
     "data": {
      "image/png": "[encoded data removed]",
      "text/plain": [
       "<Figure size 432x288 with 1 Axes>"
      ]
     },
     "metadata": {
      "needs_background": "light"
     },
     "output_type": "display_data"
    }
   ],
   "source": [
    "plt.hist(scaled_sample,bins=50)\n",
    "plt.show()"
   ]
  },
  {
   "cell_type": "code",
   "execution_count": null,
   "metadata": {
    "colab": {
     "base_uri": "https://localhost:8080/",
     "height": 276
    },
    "executionInfo": {
     "elapsed": 13,
     "status": "ok",
     "timestamp": 1657975135511,
     "user": {
      "displayName": "Hun",
      "userId": "07972583068794560208"
     },
     "user_tz": -540
    },
    "id": "6MdvaQmaAsvc",
    "outputId": "5859860d-947c-4cee-964e-e35e3fcf5d66"
   },
   "outputs": [
    {
     "data": {
      "image/png": "[encoded data removed]",
      "text/plain": [
       "<Figure size 432x288 with 1 Axes>"
      ]
     },
     "metadata": {
      "needs_background": "light"
     },
     "output_type": "display_data"
    }
   ],
   "source": [
    "plt.hist(train['sensor_03'],bins=50)\n",
    "plt.show()"
   ]
  },
  {
   "cell_type": "markdown",
   "metadata": {
    "id": "70RN8pxB1jir"
   },
   "source": [
    "\n",
    "## 이상치 제거 "
   ]
  },
  {
   "cell_type": "code",
   "execution_count": null,
   "metadata": {
    "id": "zV9MdAZA-GpH"
   },
   "outputs": [],
   "source": [
    "def minmax(data):\n",
    "  min_value  = np.min(data,axis=0)\n",
    "  max_value = np.max(data,axis=0)\n",
    "  return_value = (data-min_value)/(max_value-min_value)\n",
    "  return return_value "
   ]
  },
  {
   "cell_type": "code",
   "execution_count": null,
   "metadata": {
    "colab": {
     "base_uri": "https://localhost:8080/"
    },
    "executionInfo": {
     "elapsed": 2993,
     "status": "ok",
     "timestamp": 1657976848449,
     "user": {
      "displayName": "Hun",
      "userId": "07972583068794560208"
     },
     "user_tz": -540
    },
    "id": "3HAyvpZwDwe9",
    "outputId": "b3a6f065-c6dc-414c-be22-f2cfec1490e5"
   },
   "outputs": [
    {
     "name": "stderr",
     "output_type": "stream",
     "text": [
      "100%|██████████| 13/13 [00:01<00:00,  6.84it/s]\n"
     ]
    }
   ],
   "source": [
    "def remove_out(data:pd.Series):\n",
    "  iqr_3 = np.percentile(data,75)\n",
    "  iqr_1 = np.percentile(data,25)\n",
    "  data.loc[data>iqr_3] = iqr_3 \n",
    "  data.loc[data<iqr_1] = iqr_1 \n",
    "  return data \n",
    "\n",
    "columns = train.columns\n",
    "for column in tqdm(columns):\n",
    "  data = train[column]\n",
    "  data = remove_out(data)\n",
    "  train[column] = data "
   ]
  },
  {
   "cell_type": "code",
   "execution_count": null,
   "metadata": {
    "colab": {
     "base_uri": "https://localhost:8080/",
     "height": 428
    },
    "executionInfo": {
     "elapsed": 3047,
     "status": "ok",
     "timestamp": 1657977646272,
     "user": {
      "displayName": "Hun",
      "userId": "07972583068794560208"
     },
     "user_tz": -540
    },
    "id": "NOhrI4otEDRe",
    "outputId": "460c0ada-1560-4eb9-9d82-6620bfd3a526"
   },
   "outputs": [
    {
     "data": {
      "image/png": "[encoded data removed]",
      "text/plain": [
       "<Figure size 720x504 with 13 Axes>"
      ]
     },
     "metadata": {
      "needs_background": "light"
     },
     "output_type": "display_data"
    }
   ],
   "source": [
    "plt.figure(figsize=(10,7))\n",
    "for i,column in enumerate(columns):\n",
    "  plt.subplot(4,4,i+1)\n",
    "  plt.hist(train[column])\n",
    "plt.show()\n",
    "#이게 맞나.....?????????"
   ]
  },
  {
   "cell_type": "markdown",
   "metadata": {
    "id": "BBpLAlNKLuWW"
   },
   "source": [
    "이게 맞나 싶다...??????\n",
    "일단 그냥 스케일링을 진행 해 본다 "
   ]
  },
  {
   "cell_type": "markdown",
   "metadata": {
    "id": "P3ApVcBLL4T3"
   },
   "source": [
    "## 스케일링 "
   ]
  },
  {
   "cell_type": "code",
   "execution_count": null,
   "metadata": {
    "id": "b8q0k2g8L6Fz"
   },
   "outputs": [],
   "source": [
    "scalied_df = minmax(np.array(train))"
   ]
  },
  {
   "cell_type": "markdown",
   "metadata": {
    "id": "dutIFALm2GrW"
   },
   "source": [
    "## Reshape"
   ]
  },
  {
   "cell_type": "code",
   "execution_count": null,
   "metadata": {
    "colab": {
     "base_uri": "https://localhost:8080/"
    },
    "executionInfo": {
     "elapsed": 526,
     "status": "ok",
     "timestamp": 1657978266801,
     "user": {
      "displayName": "Hun",
      "userId": "07972583068794560208"
     },
     "user_tz": -540
    },
    "id": "PV0pisLE2FLM",
    "outputId": "5a7f7acf-196f-46bc-f760-1179310b6c79"
   },
   "outputs": [
    {
     "name": "stdout",
     "output_type": "stream",
     "text": [
      "(25968, 60, 13)\n"
     ]
    }
   ],
   "source": [
    "scalied_df = scalied_df.reshape(-1,60,13)\n",
    "print(scalied_df.shape)"
   ]
  },
  {
   "cell_type": "markdown",
   "metadata": {
    "id": "eLyZzYh92MnH"
   },
   "source": [
    "## Train-valid split"
   ]
  },
  {
   "cell_type": "code",
   "execution_count": null,
   "metadata": {
    "id": "mOVKPVtR2NxN"
   },
   "outputs": [],
   "source": [
    "idx = int(len(scalied_df)*0.1)\n",
    "train_df = scalied_df[:idx*8]\n",
    "valid_df = scalied_df[idx*8:idx*9]\n",
    "test_df = scalied_df[idx*9:]"
   ]
  },
  {
   "cell_type": "markdown",
   "metadata": {
    "id": "muTSNrtz3oz8"
   },
   "source": [
    "## output 데이터 "
   ]
  },
  {
   "cell_type": "code",
   "execution_count": null,
   "metadata": {
    "colab": {
     "base_uri": "https://localhost:8080/"
    },
    "executionInfo": {
     "elapsed": 524,
     "status": "ok",
     "timestamp": 1657978289830,
     "user": {
      "displayName": "Hun",
      "userId": "07972583068794560208"
     },
     "user_tz": -540
    },
    "id": "jOGEg-lT3qYf",
    "outputId": "c53e2bfa-86f1-4ec0-b557-eada4f4efb73"
   },
   "outputs": [
    {
     "name": "stdout",
     "output_type": "stream",
     "text": [
      "(25968, 1)\n"
     ]
    }
   ],
   "source": [
    "labels = np.unique(train_labels['state'])\n",
    "train_labels = np.array(train_labels.drop(columns=['sequence']))\n",
    "print(train_labels.shape)"
   ]
  },
  {
   "cell_type": "code",
   "execution_count": null,
   "metadata": {
    "id": "9grDR5FU3-eI"
   },
   "outputs": [],
   "source": [
    "train_y = train_labels[:idx*8]\n",
    "valid_y = train_labels[idx*8:idx*9]\n",
    "test_y = train_labels[idx*9:]"
   ]
  },
  {
   "cell_type": "markdown",
   "metadata": {
    "id": "JwQnv2je2i7T"
   },
   "source": [
    "# 모델 : Bi-LSTM"
   ]
  },
  {
   "cell_type": "code",
   "execution_count": null,
   "metadata": {
    "id": "u6LIKrea2zjR"
   },
   "outputs": [],
   "source": [
    "from tensorflow import keras\n",
    "from tensorflow.keras import layers \n",
    "from tensorflow.keras.layers import Input,Dense,LSTM,Bidirectional,Conv2D\n",
    "from tensorflow.keras import optimizers"
   ]
  },
  {
   "cell_type": "code",
   "execution_count": null,
   "metadata": {
    "id": "UandG-sa3Ph4"
   },
   "outputs": [],
   "source": [
    "input_shape = train_df.shape[1:]\n",
    "batch_size = 16"
   ]
  },
  {
   "cell_type": "code",
   "execution_count": null,
   "metadata": {
    "id": "UwxxxvpL7Sp-"
   },
   "outputs": [],
   "source": [
    "def encoding_block(node,input_layer):\n",
    "  x = input_layer \n",
    "  x = Bidirectional(LSTM(node,return_sequences=True))(x)\n",
    "  x = layers.Normalization()(x)\n",
    "  return x "
   ]
  },
  {
   "cell_type": "code",
   "execution_count": null,
   "metadata": {
    "colab": {
     "base_uri": "https://localhost:8080/"
    },
    "executionInfo": {
     "elapsed": 1175891,
     "status": "ok",
     "timestamp": 1657981227021,
     "user": {
      "displayName": "Hun",
      "userId": "07972583068794560208"
     },
     "user_tz": -540
    },
    "id": "x9aMAQ8N28I9",
    "outputId": "5f6c77c6-6730-4a72-a4cf-9a4472a8575d"
   },
   "outputs": [
    {
     "name": "stdout",
     "output_type": "stream",
     "text": [
      "Model: \"model_1\"\n",
      "_________________________________________________________________\n",
      " Layer (type)                Output Shape              Param #   \n",
      "=================================================================\n",
      " input_2 (InputLayer)        [(None, 60, 13)]          0         \n",
      "                                                                 \n",
      " bidirectional_3 (Bidirectio  (None, 60, 256)          145408    \n",
      " nal)                                                            \n",
      "                                                                 \n",
      " normalization_3 (Normalizat  (None, 60, 256)          513       \n",
      " ion)                                                            \n",
      "                                                                 \n",
      " bidirectional_4 (Bidirectio  (None, 60, 64)           73984     \n",
      " nal)                                                            \n",
      "                                                                 \n",
      " normalization_4 (Normalizat  (None, 60, 64)           129       \n",
      " ion)                                                            \n",
      "                                                                 \n",
      " bidirectional_5 (Bidirectio  (None, 60, 4)            1072      \n",
      " nal)                                                            \n",
      "                                                                 \n",
      " normalization_5 (Normalizat  (None, 60, 4)            9         \n",
      " ion)                                                            \n",
      "                                                                 \n",
      " flatten_1 (Flatten)         (None, 240)               0         \n",
      "                                                                 \n",
      " dense_1 (Dense)             (None, 2)                 482       \n",
      "                                                                 \n",
      "=================================================================\n",
      "Total params: 221,597\n",
      "Trainable params: 220,946\n",
      "Non-trainable params: 651\n",
      "_________________________________________________________________\n",
      "Epoch 1/100\n",
      "1298/1298 [==============================] - 33s 20ms/step - loss: 0.6939 - accuracy: 0.5058 - val_loss: 0.6925 - val_accuracy: 0.5027\n",
      "Epoch 2/100\n",
      "1298/1298 [==============================] - 25s 20ms/step - loss: 0.6932 - accuracy: 0.4997 - val_loss: 0.6929 - val_accuracy: 0.5027\n",
      "Epoch 3/100\n",
      "1298/1298 [==============================] - 25s 19ms/step - loss: 0.6929 - accuracy: 0.5129 - val_loss: 0.6925 - val_accuracy: 0.5027\n",
      "Epoch 4/100\n",
      "1298/1298 [==============================] - 25s 19ms/step - loss: 0.6915 - accuracy: 0.5266 - val_loss: 0.6919 - val_accuracy: 0.5204\n",
      "Epoch 5/100\n",
      "1298/1298 [==============================] - 25s 19ms/step - loss: 0.6899 - accuracy: 0.5368 - val_loss: 0.6912 - val_accuracy: 0.5331\n",
      "Epoch 6/100\n",
      "1298/1298 [==============================] - 26s 20ms/step - loss: 0.6900 - accuracy: 0.5373 - val_loss: 0.6908 - val_accuracy: 0.5374\n",
      "Epoch 7/100\n",
      "1298/1298 [==============================] - 24s 19ms/step - loss: 0.6912 - accuracy: 0.5281 - val_loss: 0.6922 - val_accuracy: 0.5162\n",
      "Epoch 8/100\n",
      "1298/1298 [==============================] - 25s 19ms/step - loss: 0.6904 - accuracy: 0.5354 - val_loss: 0.6910 - val_accuracy: 0.5431\n",
      "Epoch 9/100\n",
      "1298/1298 [==============================] - 25s 20ms/step - loss: 0.6898 - accuracy: 0.5381 - val_loss: 0.6909 - val_accuracy: 0.5393\n",
      "Epoch 10/100\n",
      "1298/1298 [==============================] - 25s 19ms/step - loss: 0.6896 - accuracy: 0.5380 - val_loss: 0.6917 - val_accuracy: 0.5250\n",
      "Epoch 11/100\n",
      "1298/1298 [==============================] - 25s 19ms/step - loss: 0.6893 - accuracy: 0.5375 - val_loss: 0.6906 - val_accuracy: 0.5293\n",
      "Epoch 12/100\n",
      "1298/1298 [==============================] - 24s 19ms/step - loss: 0.6892 - accuracy: 0.5387 - val_loss: 0.6895 - val_accuracy: 0.5408\n",
      "Epoch 13/100\n",
      "1298/1298 [==============================] - 26s 20ms/step - loss: 0.6889 - accuracy: 0.5362 - val_loss: 0.6888 - val_accuracy: 0.5401\n",
      "Epoch 14/100\n",
      "1298/1298 [==============================] - 25s 19ms/step - loss: 0.6886 - accuracy: 0.5404 - val_loss: 0.6897 - val_accuracy: 0.5420\n",
      "Epoch 15/100\n",
      "1298/1298 [==============================] - 25s 19ms/step - loss: 0.6889 - accuracy: 0.5394 - val_loss: 0.6885 - val_accuracy: 0.5385\n",
      "Epoch 16/100\n",
      "1298/1298 [==============================] - 26s 20ms/step - loss: 0.6881 - accuracy: 0.5346 - val_loss: 0.6879 - val_accuracy: 0.5424\n",
      "Epoch 17/100\n",
      "1298/1298 [==============================] - 25s 19ms/step - loss: 0.6872 - accuracy: 0.5420 - val_loss: 0.6889 - val_accuracy: 0.5354\n",
      "Epoch 18/100\n",
      "1298/1298 [==============================] - 25s 19ms/step - loss: 0.6883 - accuracy: 0.5345 - val_loss: 0.6884 - val_accuracy: 0.5455\n",
      "Epoch 19/100\n",
      "1298/1298 [==============================] - 25s 19ms/step - loss: 0.6879 - accuracy: 0.5381 - val_loss: 0.6887 - val_accuracy: 0.5378\n",
      "Epoch 20/100\n",
      "1298/1298 [==============================] - 26s 20ms/step - loss: 0.6863 - accuracy: 0.5444 - val_loss: 0.6860 - val_accuracy: 0.5462\n",
      "Epoch 21/100\n",
      "1298/1298 [==============================] - 25s 19ms/step - loss: 0.6823 - accuracy: 0.5534 - val_loss: 0.6823 - val_accuracy: 0.5505\n",
      "Epoch 22/100\n",
      "1298/1298 [==============================] - 25s 19ms/step - loss: 0.6804 - accuracy: 0.5563 - val_loss: 0.6892 - val_accuracy: 0.5462\n",
      "Epoch 23/100\n",
      "1298/1298 [==============================] - 26s 20ms/step - loss: 0.6847 - accuracy: 0.5468 - val_loss: 0.6853 - val_accuracy: 0.5424\n",
      "Epoch 24/100\n",
      "1298/1298 [==============================] - 24s 19ms/step - loss: 0.6855 - accuracy: 0.5495 - val_loss: 0.6848 - val_accuracy: 0.5555\n",
      "Epoch 25/100\n",
      "1298/1298 [==============================] - 24s 19ms/step - loss: 0.6825 - accuracy: 0.5571 - val_loss: 0.6911 - val_accuracy: 0.5189\n",
      "Epoch 26/100\n",
      "1298/1298 [==============================] - 24s 19ms/step - loss: 0.6864 - accuracy: 0.5380 - val_loss: 0.6839 - val_accuracy: 0.5416\n",
      "Epoch 27/100\n",
      "1298/1298 [==============================] - 25s 20ms/step - loss: 0.6797 - accuracy: 0.5641 - val_loss: 0.6795 - val_accuracy: 0.5801\n",
      "Epoch 28/100\n",
      "1298/1298 [==============================] - 24s 19ms/step - loss: 0.6695 - accuracy: 0.5939 - val_loss: 0.6703 - val_accuracy: 0.5913\n",
      "Epoch 29/100\n",
      "1298/1298 [==============================] - 25s 19ms/step - loss: 0.6640 - accuracy: 0.5976 - val_loss: 0.6695 - val_accuracy: 0.5994\n",
      "Epoch 30/100\n",
      "1298/1298 [==============================] - 25s 19ms/step - loss: 0.6522 - accuracy: 0.6184 - val_loss: 0.6279 - val_accuracy: 0.6564\n",
      "Epoch 31/100\n",
      "1298/1298 [==============================] - 25s 19ms/step - loss: 0.6146 - accuracy: 0.6665 - val_loss: 0.6079 - val_accuracy: 0.6718\n",
      "Epoch 32/100\n",
      "1298/1298 [==============================] - 25s 19ms/step - loss: 0.5904 - accuracy: 0.6839 - val_loss: 0.6193 - val_accuracy: 0.6649\n",
      "Epoch 33/100\n",
      "1298/1298 [==============================] - 25s 19ms/step - loss: 0.5750 - accuracy: 0.7011 - val_loss: 0.5865 - val_accuracy: 0.6949\n",
      "Epoch 34/100\n",
      "1298/1298 [==============================] - 25s 19ms/step - loss: 0.5600 - accuracy: 0.7084 - val_loss: 0.5817 - val_accuracy: 0.6957\n",
      "Epoch 35/100\n",
      "1298/1298 [==============================] - 24s 19ms/step - loss: 0.5423 - accuracy: 0.7228 - val_loss: 0.5630 - val_accuracy: 0.7065\n",
      "Epoch 36/100\n",
      "1298/1298 [==============================] - 24s 19ms/step - loss: 0.5256 - accuracy: 0.7357 - val_loss: 0.5625 - val_accuracy: 0.7184\n",
      "Epoch 37/100\n",
      "1298/1298 [==============================] - 24s 19ms/step - loss: 0.5071 - accuracy: 0.7495 - val_loss: 0.5397 - val_accuracy: 0.7273\n",
      "Epoch 38/100\n",
      "1298/1298 [==============================] - 25s 19ms/step - loss: 0.4941 - accuracy: 0.7602 - val_loss: 0.5390 - val_accuracy: 0.7300\n",
      "Epoch 39/100\n",
      "1298/1298 [==============================] - 24s 19ms/step - loss: 0.4778 - accuracy: 0.7703 - val_loss: 0.5327 - val_accuracy: 0.7377\n",
      "Epoch 40/100\n",
      "1298/1298 [==============================] - 24s 19ms/step - loss: 0.4653 - accuracy: 0.7764 - val_loss: 0.5242 - val_accuracy: 0.7458\n",
      "Epoch 41/100\n",
      "1298/1298 [==============================] - 25s 19ms/step - loss: 0.4520 - accuracy: 0.7839 - val_loss: 0.5099 - val_accuracy: 0.7450\n",
      "Epoch 42/100\n",
      "1298/1298 [==============================] - 24s 19ms/step - loss: 0.4361 - accuracy: 0.7951 - val_loss: 0.5732 - val_accuracy: 0.7361\n",
      "Epoch 43/100\n",
      "1298/1298 [==============================] - 24s 19ms/step - loss: 0.4182 - accuracy: 0.8043 - val_loss: 0.5686 - val_accuracy: 0.7411\n",
      "Epoch 44/100\n",
      "1298/1298 [==============================] - 24s 19ms/step - loss: 0.4045 - accuracy: 0.8136 - val_loss: 0.5275 - val_accuracy: 0.7211\n",
      "Epoch 45/100\n",
      "1298/1298 [==============================] - 25s 19ms/step - loss: 0.3911 - accuracy: 0.8203 - val_loss: 0.5377 - val_accuracy: 0.7408\n",
      "Epoch 46/100\n",
      "1298/1298 [==============================] - 24s 19ms/step - loss: 0.3767 - accuracy: 0.8292 - val_loss: 0.5431 - val_accuracy: 0.7461\n",
      "Epoch 47/100\n",
      "1298/1298 [==============================] - 24s 18ms/step - loss: 0.3536 - accuracy: 0.8402 - val_loss: 0.5906 - val_accuracy: 0.7408\n",
      "Epoch 48/100\n",
      "1298/1298 [==============================] - 24s 18ms/step - loss: 0.3354 - accuracy: 0.8509 - val_loss: 0.5789 - val_accuracy: 0.7361\n",
      "Epoch 49/100\n",
      "1298/1298 [==============================] - 25s 19ms/step - loss: 0.3167 - accuracy: 0.8613 - val_loss: 0.6126 - val_accuracy: 0.7454\n",
      "Epoch 50/100\n",
      "1298/1298 [==============================] - 24s 18ms/step - loss: 0.2993 - accuracy: 0.8687 - val_loss: 0.6406 - val_accuracy: 0.7384\n",
      "Epoch 51/100\n",
      "1298/1298 [==============================] - 24s 18ms/step - loss: 0.2834 - accuracy: 0.8781 - val_loss: 0.6283 - val_accuracy: 0.7280\n",
      "Epoch 52/100\n",
      "1298/1298 [==============================] - 24s 18ms/step - loss: 0.2609 - accuracy: 0.8904 - val_loss: 0.6519 - val_accuracy: 0.7427\n",
      "Epoch 53/100\n",
      "1298/1298 [==============================] - 25s 19ms/step - loss: 0.2441 - accuracy: 0.8983 - val_loss: 0.7288 - val_accuracy: 0.7338\n",
      "Epoch 54/100\n",
      "1298/1298 [==============================] - 25s 19ms/step - loss: 0.2252 - accuracy: 0.9090 - val_loss: 0.6945 - val_accuracy: 0.7408\n",
      "Epoch 55/100\n",
      "1298/1298 [==============================] - 25s 19ms/step - loss: 0.2095 - accuracy: 0.9137 - val_loss: 0.7646 - val_accuracy: 0.7377\n",
      "Epoch 56/100\n",
      "1298/1298 [==============================] - 25s 19ms/step - loss: 0.1967 - accuracy: 0.9215 - val_loss: 0.8286 - val_accuracy: 0.7361\n",
      "Epoch 57/100\n",
      "1298/1298 [==============================] - 25s 19ms/step - loss: 0.1738 - accuracy: 0.9299 - val_loss: 0.8231 - val_accuracy: 0.7384\n",
      "Epoch 58/100\n",
      "1298/1298 [==============================] - 25s 19ms/step - loss: 0.1623 - accuracy: 0.9356 - val_loss: 0.9177 - val_accuracy: 0.7311\n",
      "Epoch 59/100\n",
      "1298/1298 [==============================] - 25s 19ms/step - loss: 0.1468 - accuracy: 0.9406 - val_loss: 0.9832 - val_accuracy: 0.7338\n",
      "Epoch 60/100\n",
      "1298/1298 [==============================] - 25s 19ms/step - loss: 0.1328 - accuracy: 0.9489 - val_loss: 0.9544 - val_accuracy: 0.7408\n",
      "Epoch 61/100\n",
      "1298/1298 [==============================] - 24s 19ms/step - loss: 0.1210 - accuracy: 0.9547 - val_loss: 1.0429 - val_accuracy: 0.7304\n",
      "Epoch 62/100\n",
      "1298/1298 [==============================] - 25s 19ms/step - loss: 0.1138 - accuracy: 0.9578 - val_loss: 0.9997 - val_accuracy: 0.7300\n",
      "Epoch 63/100\n",
      "1298/1298 [==============================] - 25s 19ms/step - loss: 0.1054 - accuracy: 0.9614 - val_loss: 1.0916 - val_accuracy: 0.7296\n",
      "Epoch 64/100\n",
      "1298/1298 [==============================] - 25s 20ms/step - loss: 0.1047 - accuracy: 0.9612 - val_loss: 1.1081 - val_accuracy: 0.7369\n",
      "Epoch 65/100\n",
      "1298/1298 [==============================] - 25s 19ms/step - loss: 0.0868 - accuracy: 0.9684 - val_loss: 1.1928 - val_accuracy: 0.7357\n",
      "Epoch 66/100\n",
      "1298/1298 [==============================] - 25s 19ms/step - loss: 0.0813 - accuracy: 0.9703 - val_loss: 1.2137 - val_accuracy: 0.7427\n",
      "Epoch 67/100\n",
      "1298/1298 [==============================] - 25s 19ms/step - loss: 0.0812 - accuracy: 0.9709 - val_loss: 1.2704 - val_accuracy: 0.7408\n",
      "Epoch 68/100\n",
      "1298/1298 [==============================] - 25s 19ms/step - loss: 0.0742 - accuracy: 0.9730 - val_loss: 1.3019 - val_accuracy: 0.7396\n",
      "Epoch 69/100\n",
      "1298/1298 [==============================] - 25s 19ms/step - loss: 0.0748 - accuracy: 0.9743 - val_loss: 1.1524 - val_accuracy: 0.7388\n",
      "Epoch 70/100\n",
      "1298/1298 [==============================] - 25s 19ms/step - loss: 0.0652 - accuracy: 0.9768 - val_loss: 1.2761 - val_accuracy: 0.7331\n",
      "Epoch 71/100\n",
      "1298/1298 [==============================] - 25s 20ms/step - loss: 0.0644 - accuracy: 0.9787 - val_loss: 1.2912 - val_accuracy: 0.7357\n",
      "Epoch 72/100\n",
      "1298/1298 [==============================] - 25s 19ms/step - loss: 0.0632 - accuracy: 0.9777 - val_loss: 1.3892 - val_accuracy: 0.7311\n",
      "Epoch 73/100\n",
      "1298/1298 [==============================] - 25s 19ms/step - loss: 0.0645 - accuracy: 0.9775 - val_loss: 1.2822 - val_accuracy: 0.7284\n",
      "Epoch 74/100\n",
      "1298/1298 [==============================] - 25s 19ms/step - loss: 0.0534 - accuracy: 0.9807 - val_loss: 1.4204 - val_accuracy: 0.7404\n",
      "Epoch 75/100\n",
      "1298/1298 [==============================] - 25s 20ms/step - loss: 0.0603 - accuracy: 0.9790 - val_loss: 1.3900 - val_accuracy: 0.7304\n",
      "Epoch 76/100\n",
      "1298/1298 [==============================] - 25s 19ms/step - loss: 0.0465 - accuracy: 0.9843 - val_loss: 1.4394 - val_accuracy: 0.7473\n",
      "Epoch 77/100\n",
      "1298/1298 [==============================] - 25s 19ms/step - loss: 0.0472 - accuracy: 0.9844 - val_loss: 1.4518 - val_accuracy: 0.7315\n",
      "Epoch 78/100\n",
      "1298/1298 [==============================] - 25s 19ms/step - loss: 0.0454 - accuracy: 0.9852 - val_loss: 1.5207 - val_accuracy: 0.7388\n",
      "Epoch 79/100\n",
      "1298/1298 [==============================] - 25s 19ms/step - loss: 0.0461 - accuracy: 0.9850 - val_loss: 1.4886 - val_accuracy: 0.7288\n",
      "Epoch 80/100\n",
      "1298/1298 [==============================] - 25s 19ms/step - loss: 0.0492 - accuracy: 0.9841 - val_loss: 1.3917 - val_accuracy: 0.7234\n",
      "Epoch 81/100\n",
      "1298/1298 [==============================] - 25s 19ms/step - loss: 0.0437 - accuracy: 0.9866 - val_loss: 1.5523 - val_accuracy: 0.7242\n",
      "Epoch 82/100\n",
      "1298/1298 [==============================] - 25s 20ms/step - loss: 0.0436 - accuracy: 0.9855 - val_loss: 1.4734 - val_accuracy: 0.7361\n",
      "Epoch 83/100\n",
      "1298/1298 [==============================] - 25s 19ms/step - loss: 0.0398 - accuracy: 0.9869 - val_loss: 1.5656 - val_accuracy: 0.7292\n",
      "Epoch 84/100\n",
      "1298/1298 [==============================] - 25s 19ms/step - loss: 0.0395 - accuracy: 0.9869 - val_loss: 1.5392 - val_accuracy: 0.7415\n",
      "Epoch 85/100\n",
      "1298/1298 [==============================] - 25s 19ms/step - loss: 0.0413 - accuracy: 0.9859 - val_loss: 1.4968 - val_accuracy: 0.7346\n",
      "Epoch 86/100\n",
      "1298/1298 [==============================] - 25s 20ms/step - loss: 0.0405 - accuracy: 0.9866 - val_loss: 1.5913 - val_accuracy: 0.7377\n",
      "Epoch 87/100\n",
      "1298/1298 [==============================] - 25s 19ms/step - loss: 0.0404 - accuracy: 0.9870 - val_loss: 1.5425 - val_accuracy: 0.7411\n",
      "Epoch 88/100\n",
      "1298/1298 [==============================] - 25s 19ms/step - loss: 0.0261 - accuracy: 0.9911 - val_loss: 1.6663 - val_accuracy: 0.7381\n",
      "Epoch 89/100\n",
      "1298/1298 [==============================] - 25s 20ms/step - loss: 0.0363 - accuracy: 0.9879 - val_loss: 1.5954 - val_accuracy: 0.7223\n",
      "Epoch 90/100\n",
      "1298/1298 [==============================] - 25s 19ms/step - loss: 0.0373 - accuracy: 0.9868 - val_loss: 1.5406 - val_accuracy: 0.7257\n",
      "Epoch 91/100\n",
      "1298/1298 [==============================] - 25s 19ms/step - loss: 0.0307 - accuracy: 0.9906 - val_loss: 1.6056 - val_accuracy: 0.7361\n",
      "Epoch 92/100\n",
      "1298/1298 [==============================] - 25s 19ms/step - loss: 0.0332 - accuracy: 0.9889 - val_loss: 1.6418 - val_accuracy: 0.7273\n",
      "Epoch 93/100\n",
      "1298/1298 [==============================] - 25s 20ms/step - loss: 0.0397 - accuracy: 0.9870 - val_loss: 1.5191 - val_accuracy: 0.7223\n",
      "Epoch 94/100\n",
      "1298/1298 [==============================] - 25s 19ms/step - loss: 0.0325 - accuracy: 0.9894 - val_loss: 1.5548 - val_accuracy: 0.7369\n",
      "Epoch 95/100\n",
      "1298/1298 [==============================] - 25s 19ms/step - loss: 0.0250 - accuracy: 0.9911 - val_loss: 1.7356 - val_accuracy: 0.7373\n",
      "Epoch 96/100\n",
      "1298/1298 [==============================] - 25s 19ms/step - loss: 0.0352 - accuracy: 0.9885 - val_loss: 1.6599 - val_accuracy: 0.7338\n",
      "Epoch 97/100\n",
      "1298/1298 [==============================] - 26s 20ms/step - loss: 0.0312 - accuracy: 0.9900 - val_loss: 1.7424 - val_accuracy: 0.7404\n",
      "Epoch 98/100\n",
      "1298/1298 [==============================] - 25s 19ms/step - loss: 0.0276 - accuracy: 0.9921 - val_loss: 1.6809 - val_accuracy: 0.7331\n",
      "Epoch 99/100\n",
      "1298/1298 [==============================] - 25s 19ms/step - loss: 0.0308 - accuracy: 0.9900 - val_loss: 1.5912 - val_accuracy: 0.7400\n",
      "Epoch 100/100\n",
      "1298/1298 [==============================] - 25s 20ms/step - loss: 0.0323 - accuracy: 0.9898 - val_loss: 1.5726 - val_accuracy: 0.7388\n"
     ]
    },
    {
     "data": {
      "text/plain": [
       "<keras.callbacks.History at 0x7fed7d80ea50>"
      ]
     },
     "execution_count": 118,
     "metadata": {},
     "output_type": "execute_result"
    }
   ],
   "source": [
    "inputs = Input(input_shape)\n",
    "x = inputs\n",
    "x = encoding_block(128,x)\n",
    "x = encoding_block(32,x)\n",
    "x = encoding_block(2,x)\n",
    "x = layers.Flatten()(x)\n",
    "x = Dense(2,activation = 'softmax')(x)\n",
    "model = keras.Model(inputs,x)\n",
    "model.summary()\n",
    "model.compile(optimizer = 'adam',loss = 'sparse_categorical_crossentropy',metrics=['accuracy'])\n",
    "model.fit(train_df,train_y,batch_size=batch_size,validation_data=(valid_df,valid_y),epochs=100,verbose=1)"
   ]
  },
  {
   "cell_type": "markdown",
   "metadata": {
    "id": "SiRouOCg6lnT"
   },
   "source": [
    "#모델 : 트랜스포머 "
   ]
  },
  {
   "cell_type": "code",
   "execution_count": null,
   "metadata": {
    "id": "wK5euh-g5sLD"
   },
   "outputs": [],
   "source": [
    "def transformer_encoder(inputs, head_size, num_heads, ff_dim, dropout=0):\n",
    "    # Attention and Normalization\n",
    "    x = layers.MultiHeadAttention(\n",
    "        key_dim=head_size, num_heads=num_heads, dropout=dropout\n",
    "    )(inputs, inputs)\n",
    "    x = layers.Dropout(dropout)(x)\n",
    "    x = layers.LayerNormalization(epsilon=1e-6)(x)\n",
    "    res = x + inputs\n",
    "    # Feed Forward Part\n",
    "    x = layers.Conv1D(filters=ff_dim, kernel_size=1, activation=\"relu\")(res)\n",
    "    x = layers.Dropout(dropout)(x)\n",
    "    x = layers.Conv1D(filters=inputs.shape[-1], kernel_size=1)(x)\n",
    "    x = layers.LayerNormalization(epsilon=1e-6)(x)\n",
    "    return x + res "
   ]
  },
  {
   "cell_type": "code",
   "execution_count": null,
   "metadata": {
    "id": "w9qzPl07dmhi"
   },
   "outputs": [],
   "source": [
    "def build_model(\n",
    "    input_shape,\n",
    "    head_size,\n",
    "    num_heads,\n",
    "    ff_dim,\n",
    "    num_transformer_blocks,\n",
    "    mlp_units,\n",
    "    dropout=0,\n",
    "    mlp_dropout=0,\n",
    "):\n",
    "    inputs = keras.Input(shape=input_shape)\n",
    "    x = inputs\n",
    "    for _ in range(num_transformer_blocks):\n",
    "        x = transformer_encoder(x, head_size, num_heads, ff_dim, dropout)\n",
    "\n",
    "    x = layers.GlobalAveragePooling1D(data_format=\"channels_first\")(x)\n",
    "    for dim in mlp_units:\n",
    "        x = layers.Dense(dim, activation=\"relu\")(x)\n",
    "        x = layers.Dropout(mlp_dropout)(x)\n",
    "    outputs = layers.Dense(2, activation=\"softmax\")(x)\n",
    "    return keras.Model(inputs, outputs)\n",
    "\n",
    "def root_mean_squared_error(y_true, y_pred):\n",
    "        return K.sqrt(K.mean(K.square(y_pred - y_true))) "
   ]
  },
  {
   "cell_type": "code",
   "execution_count": null,
   "metadata": {
    "id": "j6a3YRp9dzgB"
   },
   "outputs": [],
   "source": [
    "model = build_model(\n",
    "    input_shape,\n",
    "    head_size=256,\n",
    "    num_heads=4,\n",
    "    ff_dim=4,\n",
    "    num_transformer_blocks=4,\n",
    "    mlp_units=[128],\n",
    "    mlp_dropout=0.4,\n",
    "    dropout=0.25,\n",
    ")\n",
    "\n",
    "model.compile(\n",
    "    loss= root_mean_squared_error,\n",
    "    optimizer=keras.optimizers.Adam(learning_rate=1e-4),\n",
    "    metrics=[\"accuracy\"],\n",
    "    )\n",
    "model.summary()"
   ]
  },
  {
   "cell_type": "code",
   "execution_count": null,
   "metadata": {
    "id": "xJMOUD1EeBAG"
   },
   "outputs": [],
   "source": [
    "from tensorflow.keras.utils import plot_model \n",
    "plot_model(model)"
   ]
  },
  {
   "cell_type": "code",
   "execution_count": null,
   "metadata": {
    "colab": {
     "base_uri": "https://localhost:8080/",
     "height": 1000
    },
    "executionInfo": {
     "elapsed": 1239149,
     "status": "error",
     "timestamp": 1657984218448,
     "user": {
      "displayName": "Hun",
      "userId": "07972583068794560208"
     },
     "user_tz": -540
    },
    "id": "Nn_Q2PISePad",
    "outputId": "4b916aa6-9495-43ff-ae76-3b70a29da7e6"
   },
   "outputs": [
    {
     "name": "stdout",
     "output_type": "stream",
     "text": [
      "Epoch 1/100\n",
      "1298/1298 [==============================] - 17s 12ms/step - loss: 0.6824 - accuracy: 0.5621 - val_loss: 0.6789 - val_accuracy: 0.5770\n",
      "Epoch 2/100\n",
      "1298/1298 [==============================] - 16s 12ms/step - loss: 0.6755 - accuracy: 0.5802 - val_loss: 0.6652 - val_accuracy: 0.6102\n",
      "Epoch 3/100\n",
      "1298/1298 [==============================] - 15s 12ms/step - loss: 0.6622 - accuracy: 0.6030 - val_loss: 0.6551 - val_accuracy: 0.6233\n",
      "Epoch 4/100\n",
      "1298/1298 [==============================] - 15s 12ms/step - loss: 0.6566 - accuracy: 0.6133 - val_loss: 0.6564 - val_accuracy: 0.6287\n",
      "Epoch 5/100\n",
      "1298/1298 [==============================] - 15s 12ms/step - loss: 0.6521 - accuracy: 0.6176 - val_loss: 0.6493 - val_accuracy: 0.6248\n",
      "Epoch 6/100\n",
      "1298/1298 [==============================] - 15s 12ms/step - loss: 0.6479 - accuracy: 0.6187 - val_loss: 0.6520 - val_accuracy: 0.6202\n",
      "Epoch 7/100\n",
      "1298/1298 [==============================] - 15s 12ms/step - loss: 0.6485 - accuracy: 0.6222 - val_loss: 0.7023 - val_accuracy: 0.6125\n",
      "Epoch 8/100\n",
      "1298/1298 [==============================] - 16s 13ms/step - loss: 0.6443 - accuracy: 0.6270 - val_loss: 0.6542 - val_accuracy: 0.6210\n",
      "Epoch 9/100\n",
      "1298/1298 [==============================] - 15s 12ms/step - loss: 0.6407 - accuracy: 0.6343 - val_loss: 0.6440 - val_accuracy: 0.6360\n",
      "Epoch 10/100\n",
      "1298/1298 [==============================] - 15s 12ms/step - loss: 0.6385 - accuracy: 0.6367 - val_loss: 0.6383 - val_accuracy: 0.6379\n",
      "Epoch 11/100\n",
      "1298/1298 [==============================] - 15s 12ms/step - loss: 0.6368 - accuracy: 0.6359 - val_loss: 0.6495 - val_accuracy: 0.6402\n",
      "Epoch 12/100\n",
      "1298/1298 [==============================] - 15s 12ms/step - loss: 0.6351 - accuracy: 0.6364 - val_loss: 0.6350 - val_accuracy: 0.6410\n",
      "Epoch 13/100\n",
      "1298/1298 [==============================] - 15s 12ms/step - loss: 0.6324 - accuracy: 0.6412 - val_loss: 0.6490 - val_accuracy: 0.6460\n",
      "Epoch 14/100\n",
      "1298/1298 [==============================] - 16s 12ms/step - loss: 0.6287 - accuracy: 0.6426 - val_loss: 0.6483 - val_accuracy: 0.6537\n",
      "Epoch 15/100\n",
      "1298/1298 [==============================] - 16s 12ms/step - loss: 0.6251 - accuracy: 0.6490 - val_loss: 0.6276 - val_accuracy: 0.6564\n",
      "Epoch 16/100\n",
      "1298/1298 [==============================] - 15s 12ms/step - loss: 0.6233 - accuracy: 0.6512 - val_loss: 0.6796 - val_accuracy: 0.6325\n",
      "Epoch 17/100\n",
      "1298/1298 [==============================] - 15s 12ms/step - loss: 0.6214 - accuracy: 0.6508 - val_loss: 0.7203 - val_accuracy: 0.6275\n",
      "Epoch 18/100\n",
      "1298/1298 [==============================] - 15s 12ms/step - loss: 0.6198 - accuracy: 0.6530 - val_loss: 0.6617 - val_accuracy: 0.6302\n",
      "Epoch 19/100\n",
      "1298/1298 [==============================] - 15s 12ms/step - loss: 0.6166 - accuracy: 0.6564 - val_loss: 0.6129 - val_accuracy: 0.6599\n",
      "Epoch 20/100\n",
      "1298/1298 [==============================] - 15s 12ms/step - loss: 0.6102 - accuracy: 0.6630 - val_loss: 0.6099 - val_accuracy: 0.6741\n",
      "Epoch 21/100\n",
      "1298/1298 [==============================] - 16s 12ms/step - loss: 0.6081 - accuracy: 0.6663 - val_loss: 0.6281 - val_accuracy: 0.6706\n",
      "Epoch 22/100\n",
      "1298/1298 [==============================] - 15s 12ms/step - loss: 0.6035 - accuracy: 0.6737 - val_loss: 0.6114 - val_accuracy: 0.6703\n",
      "Epoch 23/100\n",
      "1298/1298 [==============================] - 15s 12ms/step - loss: 0.6009 - accuracy: 0.6753 - val_loss: 0.5962 - val_accuracy: 0.6810\n",
      "Epoch 24/100\n",
      "1298/1298 [==============================] - 15s 12ms/step - loss: 0.5962 - accuracy: 0.6798 - val_loss: 0.6071 - val_accuracy: 0.6803\n",
      "Epoch 25/100\n",
      "1298/1298 [==============================] - 15s 12ms/step - loss: 0.5938 - accuracy: 0.6833 - val_loss: 0.6031 - val_accuracy: 0.6649\n",
      "Epoch 26/100\n",
      "1298/1298 [==============================] - 15s 12ms/step - loss: 0.5893 - accuracy: 0.6853 - val_loss: 0.5947 - val_accuracy: 0.6814\n",
      "Epoch 27/100\n",
      "1298/1298 [==============================] - 16s 13ms/step - loss: 0.5879 - accuracy: 0.6906 - val_loss: 0.5898 - val_accuracy: 0.6880\n",
      "Epoch 28/100\n",
      "1298/1298 [==============================] - 15s 12ms/step - loss: 0.5846 - accuracy: 0.6924 - val_loss: 0.6102 - val_accuracy: 0.6787\n",
      "Epoch 29/100\n",
      "1298/1298 [==============================] - 15s 12ms/step - loss: 0.5836 - accuracy: 0.6946 - val_loss: 0.5910 - val_accuracy: 0.6803\n",
      "Epoch 30/100\n",
      "1298/1298 [==============================] - 15s 12ms/step - loss: 0.5798 - accuracy: 0.6953 - val_loss: 0.5924 - val_accuracy: 0.6841\n",
      "Epoch 31/100\n",
      "1298/1298 [==============================] - 15s 12ms/step - loss: 0.5781 - accuracy: 0.6947 - val_loss: 0.6155 - val_accuracy: 0.6795\n",
      "Epoch 32/100\n",
      "1298/1298 [==============================] - 15s 12ms/step - loss: 0.5771 - accuracy: 0.6974 - val_loss: 0.6244 - val_accuracy: 0.6583\n",
      "Epoch 33/100\n",
      "1298/1298 [==============================] - 16s 12ms/step - loss: 0.5786 - accuracy: 0.6958 - val_loss: 0.5999 - val_accuracy: 0.6853\n",
      "Epoch 34/100\n",
      "1298/1298 [==============================] - 15s 12ms/step - loss: 0.5719 - accuracy: 0.7040 - val_loss: 0.6338 - val_accuracy: 0.6699\n",
      "Epoch 35/100\n",
      "1298/1298 [==============================] - 15s 12ms/step - loss: 0.5707 - accuracy: 0.7037 - val_loss: 0.6247 - val_accuracy: 0.6730\n",
      "Epoch 36/100\n",
      "1298/1298 [==============================] - 15s 12ms/step - loss: 0.5701 - accuracy: 0.7034 - val_loss: 0.6178 - val_accuracy: 0.6818\n",
      "Epoch 37/100\n",
      "1298/1298 [==============================] - 15s 12ms/step - loss: 0.5685 - accuracy: 0.7048 - val_loss: 0.6057 - val_accuracy: 0.6830\n",
      "Epoch 38/100\n",
      "1298/1298 [==============================] - 15s 12ms/step - loss: 0.5677 - accuracy: 0.7066 - val_loss: 0.5829 - val_accuracy: 0.6903\n",
      "Epoch 39/100\n",
      "1298/1298 [==============================] - 16s 12ms/step - loss: 0.5656 - accuracy: 0.7068 - val_loss: 0.6143 - val_accuracy: 0.6760\n",
      "Epoch 40/100\n",
      "1298/1298 [==============================] - 16s 12ms/step - loss: 0.5635 - accuracy: 0.7082 - val_loss: 0.6083 - val_accuracy: 0.6899\n",
      "Epoch 41/100\n",
      "1298/1298 [==============================] - 15s 12ms/step - loss: 0.5630 - accuracy: 0.7063 - val_loss: 0.5962 - val_accuracy: 0.6938\n",
      "Epoch 42/100\n",
      "1298/1298 [==============================] - 15s 12ms/step - loss: 0.5604 - accuracy: 0.7086 - val_loss: 0.6024 - val_accuracy: 0.6853\n",
      "Epoch 43/100\n",
      "1298/1298 [==============================] - 15s 12ms/step - loss: 0.5592 - accuracy: 0.7130 - val_loss: 0.5882 - val_accuracy: 0.6907\n",
      "Epoch 44/100\n",
      "1298/1298 [==============================] - 15s 12ms/step - loss: 0.5609 - accuracy: 0.7127 - val_loss: 0.6003 - val_accuracy: 0.6868\n",
      "Epoch 45/100\n",
      "1298/1298 [==============================] - 15s 12ms/step - loss: 0.5605 - accuracy: 0.7068 - val_loss: 0.6163 - val_accuracy: 0.6799\n",
      "Epoch 46/100\n",
      "1298/1298 [==============================] - 16s 12ms/step - loss: 0.5566 - accuracy: 0.7159 - val_loss: 0.5873 - val_accuracy: 0.6872\n",
      "Epoch 47/100\n",
      "1298/1298 [==============================] - 15s 12ms/step - loss: 0.5565 - accuracy: 0.7128 - val_loss: 0.5849 - val_accuracy: 0.6880\n",
      "Epoch 48/100\n",
      "1298/1298 [==============================] - 15s 12ms/step - loss: 0.5550 - accuracy: 0.7168 - val_loss: 0.6291 - val_accuracy: 0.6853\n",
      "Epoch 49/100\n",
      "1298/1298 [==============================] - 15s 12ms/step - loss: 0.5541 - accuracy: 0.7120 - val_loss: 0.6270 - val_accuracy: 0.6880\n",
      "Epoch 50/100\n",
      "1298/1298 [==============================] - 15s 12ms/step - loss: 0.5516 - accuracy: 0.7176 - val_loss: 0.5968 - val_accuracy: 0.6868\n",
      "Epoch 51/100\n",
      "1298/1298 [==============================] - 15s 12ms/step - loss: 0.5511 - accuracy: 0.7152 - val_loss: 0.5932 - val_accuracy: 0.6899\n",
      "Epoch 52/100\n",
      "1298/1298 [==============================] - 16s 12ms/step - loss: 0.5528 - accuracy: 0.7154 - val_loss: 0.5936 - val_accuracy: 0.6918\n",
      "Epoch 53/100\n",
      "1298/1298 [==============================] - 15s 12ms/step - loss: 0.5516 - accuracy: 0.7163 - val_loss: 0.5904 - val_accuracy: 0.6872\n",
      "Epoch 54/100\n",
      "1298/1298 [==============================] - 15s 12ms/step - loss: 0.5513 - accuracy: 0.7191 - val_loss: 0.6126 - val_accuracy: 0.6691\n",
      "Epoch 55/100\n",
      "1298/1298 [==============================] - 15s 12ms/step - loss: 0.5509 - accuracy: 0.7148 - val_loss: 0.5950 - val_accuracy: 0.6938\n",
      "Epoch 56/100\n",
      "1298/1298 [==============================] - 15s 12ms/step - loss: 0.5521 - accuracy: 0.7156 - val_loss: 0.5817 - val_accuracy: 0.6918\n",
      "Epoch 57/100\n",
      "1298/1298 [==============================] - 15s 12ms/step - loss: 0.5481 - accuracy: 0.7180 - val_loss: 0.6080 - val_accuracy: 0.6914\n",
      "Epoch 58/100\n",
      "1298/1298 [==============================] - 16s 12ms/step - loss: 0.5461 - accuracy: 0.7186 - val_loss: 0.5975 - val_accuracy: 0.6899\n",
      "Epoch 59/100\n",
      "1298/1298 [==============================] - 15s 12ms/step - loss: 0.5472 - accuracy: 0.7199 - val_loss: 0.6031 - val_accuracy: 0.6872\n",
      "Epoch 60/100\n",
      "1298/1298 [==============================] - 15s 12ms/step - loss: 0.5449 - accuracy: 0.7207 - val_loss: 0.5820 - val_accuracy: 0.6984\n",
      "Epoch 61/100\n",
      "1298/1298 [==============================] - 15s 12ms/step - loss: 0.5432 - accuracy: 0.7224 - val_loss: 0.5945 - val_accuracy: 0.6884\n",
      "Epoch 62/100\n",
      "1298/1298 [==============================] - 15s 12ms/step - loss: 0.5447 - accuracy: 0.7205 - val_loss: 0.5842 - val_accuracy: 0.6953\n",
      "Epoch 63/100\n",
      "1298/1298 [==============================] - 15s 12ms/step - loss: 0.5440 - accuracy: 0.7227 - val_loss: 0.5886 - val_accuracy: 0.6953\n",
      "Epoch 64/100\n",
      "1298/1298 [==============================] - 15s 12ms/step - loss: 0.5427 - accuracy: 0.7228 - val_loss: 0.5996 - val_accuracy: 0.6822\n",
      "Epoch 65/100\n",
      "1298/1298 [==============================] - 16s 12ms/step - loss: 0.5424 - accuracy: 0.7205 - val_loss: 0.5810 - val_accuracy: 0.6968\n",
      "Epoch 66/100\n",
      "1298/1298 [==============================] - 15s 12ms/step - loss: 0.5400 - accuracy: 0.7243 - val_loss: 0.5835 - val_accuracy: 0.6914\n",
      "Epoch 67/100\n",
      "1298/1298 [==============================] - 15s 12ms/step - loss: 0.5399 - accuracy: 0.7239 - val_loss: 0.5876 - val_accuracy: 0.6941\n",
      "Epoch 68/100\n",
      "1298/1298 [==============================] - 15s 12ms/step - loss: 0.5391 - accuracy: 0.7238 - val_loss: 0.6046 - val_accuracy: 0.6834\n",
      "Epoch 69/100\n",
      "1298/1298 [==============================] - 15s 12ms/step - loss: 0.5388 - accuracy: 0.7248 - val_loss: 0.6248 - val_accuracy: 0.6845\n",
      "Epoch 70/100\n",
      "1298/1298 [==============================] - 15s 12ms/step - loss: 0.5358 - accuracy: 0.7271 - val_loss: 0.5878 - val_accuracy: 0.6995\n",
      "Epoch 71/100\n",
      "1298/1298 [==============================] - 16s 13ms/step - loss: 0.5355 - accuracy: 0.7249 - val_loss: 0.5993 - val_accuracy: 0.6764\n",
      "Epoch 72/100\n",
      "1298/1298 [==============================] - 15s 12ms/step - loss: 0.5384 - accuracy: 0.7254 - val_loss: 0.5939 - val_accuracy: 0.6857\n",
      "Epoch 73/100\n",
      "1298/1298 [==============================] - 15s 12ms/step - loss: 0.5361 - accuracy: 0.7292 - val_loss: 0.6071 - val_accuracy: 0.6780\n",
      "Epoch 74/100\n",
      "1298/1298 [==============================] - 15s 12ms/step - loss: 0.5358 - accuracy: 0.7266 - val_loss: 0.6105 - val_accuracy: 0.6949\n",
      "Epoch 75/100\n",
      "1298/1298 [==============================] - 15s 12ms/step - loss: 0.5357 - accuracy: 0.7280 - val_loss: 0.5946 - val_accuracy: 0.6888\n",
      "Epoch 76/100\n",
      "1298/1298 [==============================] - 15s 12ms/step - loss: 0.5317 - accuracy: 0.7311 - val_loss: 0.6054 - val_accuracy: 0.6818\n",
      "Epoch 77/100\n",
      "1298/1298 [==============================] - 17s 13ms/step - loss: 0.5317 - accuracy: 0.7284 - val_loss: 0.5924 - val_accuracy: 0.6822\n",
      "Epoch 78/100\n",
      "1298/1298 [==============================] - 15s 12ms/step - loss: 0.5316 - accuracy: 0.7291 - val_loss: 0.6098 - val_accuracy: 0.6780\n",
      "Epoch 79/100\n",
      "1298/1298 [==============================] - 15s 12ms/step - loss: 0.5314 - accuracy: 0.7317 - val_loss: 0.5903 - val_accuracy: 0.6965\n",
      "Epoch 80/100\n",
      "1298/1298 [==============================] - 15s 12ms/step - loss: 0.5310 - accuracy: 0.7296 - val_loss: 0.5867 - val_accuracy: 0.6945\n",
      "Epoch 81/100\n",
      " 754/1298 [================>.............] - ETA: 6s - loss: 0.5292 - accuracy: 0.7333"
     ]
    },
    {
     "ename": "KeyboardInterrupt",
     "evalue": "ignored",
     "output_type": "error",
     "traceback": [
      "\u001b[0;31m---------------------------------------------------------------------------\u001b[0m",
      "\u001b[0;31mKeyboardInterrupt\u001b[0m                         Traceback (most recent call last)",
      "\u001b[0;32m<ipython-input-129-d0be928aa256>\u001b[0m in \u001b[0;36m<module>\u001b[0;34m()\u001b[0m\n\u001b[1;32m      4\u001b[0m     \u001b[0mvalidation_data\u001b[0m\u001b[0;34m=\u001b[0m\u001b[0;34m(\u001b[0m\u001b[0mvalid_df\u001b[0m\u001b[0;34m,\u001b[0m\u001b[0mvalid_y\u001b[0m\u001b[0;34m)\u001b[0m\u001b[0;34m,\u001b[0m\u001b[0;34m\u001b[0m\u001b[0;34m\u001b[0m\u001b[0m\n\u001b[1;32m      5\u001b[0m     \u001b[0mepochs\u001b[0m\u001b[0;34m=\u001b[0m\u001b[0;36m100\u001b[0m\u001b[0;34m,\u001b[0m\u001b[0;34m\u001b[0m\u001b[0;34m\u001b[0m\u001b[0m\n\u001b[0;32m----> 6\u001b[0;31m     \u001b[0mbatch_size\u001b[0m\u001b[0;34m=\u001b[0m\u001b[0;36m16\u001b[0m\u001b[0;34m\u001b[0m\u001b[0;34m\u001b[0m\u001b[0m\n\u001b[0m\u001b[1;32m      7\u001b[0m )\n",
      "\u001b[0;32m/usr/local/lib/python3.7/dist-packages/keras/utils/traceback_utils.py\u001b[0m in \u001b[0;36merror_handler\u001b[0;34m(*args, **kwargs)\u001b[0m\n\u001b[1;32m     62\u001b[0m     \u001b[0mfiltered_tb\u001b[0m \u001b[0;34m=\u001b[0m \u001b[0;32mNone\u001b[0m\u001b[0;34m\u001b[0m\u001b[0;34m\u001b[0m\u001b[0m\n\u001b[1;32m     63\u001b[0m     \u001b[0;32mtry\u001b[0m\u001b[0;34m:\u001b[0m\u001b[0;34m\u001b[0m\u001b[0;34m\u001b[0m\u001b[0m\n\u001b[0;32m---> 64\u001b[0;31m       \u001b[0;32mreturn\u001b[0m \u001b[0mfn\u001b[0m\u001b[0;34m(\u001b[0m\u001b[0;34m*\u001b[0m\u001b[0margs\u001b[0m\u001b[0;34m,\u001b[0m \u001b[0;34m**\u001b[0m\u001b[0mkwargs\u001b[0m\u001b[0;34m)\u001b[0m\u001b[0;34m\u001b[0m\u001b[0;34m\u001b[0m\u001b[0m\n\u001b[0m\u001b[1;32m     65\u001b[0m     \u001b[0;32mexcept\u001b[0m \u001b[0mException\u001b[0m \u001b[0;32mas\u001b[0m \u001b[0me\u001b[0m\u001b[0;34m:\u001b[0m  \u001b[0;31m# pylint: disable=broad-except\u001b[0m\u001b[0;34m\u001b[0m\u001b[0;34m\u001b[0m\u001b[0m\n\u001b[1;32m     66\u001b[0m       \u001b[0mfiltered_tb\u001b[0m \u001b[0;34m=\u001b[0m \u001b[0m_process_traceback_frames\u001b[0m\u001b[0;34m(\u001b[0m\u001b[0me\u001b[0m\u001b[0;34m.\u001b[0m\u001b[0m__traceback__\u001b[0m\u001b[0;34m)\u001b[0m\u001b[0;34m\u001b[0m\u001b[0;34m\u001b[0m\u001b[0m\n",
      "\u001b[0;32m/usr/local/lib/python3.7/dist-packages/keras/engine/training.py\u001b[0m in \u001b[0;36mfit\u001b[0;34m(self, x, y, batch_size, epochs, verbose, callbacks, validation_split, validation_data, shuffle, class_weight, sample_weight, initial_epoch, steps_per_epoch, validation_steps, validation_batch_size, validation_freq, max_queue_size, workers, use_multiprocessing)\u001b[0m\n\u001b[1;32m   1382\u001b[0m                 _r=1):\n\u001b[1;32m   1383\u001b[0m               \u001b[0mcallbacks\u001b[0m\u001b[0;34m.\u001b[0m\u001b[0mon_train_batch_begin\u001b[0m\u001b[0;34m(\u001b[0m\u001b[0mstep\u001b[0m\u001b[0;34m)\u001b[0m\u001b[0;34m\u001b[0m\u001b[0;34m\u001b[0m\u001b[0m\n\u001b[0;32m-> 1384\u001b[0;31m               \u001b[0mtmp_logs\u001b[0m \u001b[0;34m=\u001b[0m \u001b[0mself\u001b[0m\u001b[0;34m.\u001b[0m\u001b[0mtrain_function\u001b[0m\u001b[0;34m(\u001b[0m\u001b[0miterator\u001b[0m\u001b[0;34m)\u001b[0m\u001b[0;34m\u001b[0m\u001b[0;34m\u001b[0m\u001b[0m\n\u001b[0m\u001b[1;32m   1385\u001b[0m               \u001b[0;32mif\u001b[0m \u001b[0mdata_handler\u001b[0m\u001b[0;34m.\u001b[0m\u001b[0mshould_sync\u001b[0m\u001b[0;34m:\u001b[0m\u001b[0;34m\u001b[0m\u001b[0;34m\u001b[0m\u001b[0m\n\u001b[1;32m   1386\u001b[0m                 \u001b[0mcontext\u001b[0m\u001b[0;34m.\u001b[0m\u001b[0masync_wait\u001b[0m\u001b[0;34m(\u001b[0m\u001b[0;34m)\u001b[0m\u001b[0;34m\u001b[0m\u001b[0;34m\u001b[0m\u001b[0m\n",
      "\u001b[0;32m/usr/local/lib/python3.7/dist-packages/tensorflow/python/util/traceback_utils.py\u001b[0m in \u001b[0;36merror_handler\u001b[0;34m(*args, **kwargs)\u001b[0m\n\u001b[1;32m    148\u001b[0m     \u001b[0mfiltered_tb\u001b[0m \u001b[0;34m=\u001b[0m \u001b[0;32mNone\u001b[0m\u001b[0;34m\u001b[0m\u001b[0;34m\u001b[0m\u001b[0m\n\u001b[1;32m    149\u001b[0m     \u001b[0;32mtry\u001b[0m\u001b[0;34m:\u001b[0m\u001b[0;34m\u001b[0m\u001b[0;34m\u001b[0m\u001b[0m\n\u001b[0;32m--> 150\u001b[0;31m       \u001b[0;32mreturn\u001b[0m \u001b[0mfn\u001b[0m\u001b[0;34m(\u001b[0m\u001b[0;34m*\u001b[0m\u001b[0margs\u001b[0m\u001b[0;34m,\u001b[0m \u001b[0;34m**\u001b[0m\u001b[0mkwargs\u001b[0m\u001b[0;34m)\u001b[0m\u001b[0;34m\u001b[0m\u001b[0;34m\u001b[0m\u001b[0m\n\u001b[0m\u001b[1;32m    151\u001b[0m     \u001b[0;32mexcept\u001b[0m \u001b[0mException\u001b[0m \u001b[0;32mas\u001b[0m \u001b[0me\u001b[0m\u001b[0;34m:\u001b[0m\u001b[0;34m\u001b[0m\u001b[0;34m\u001b[0m\u001b[0m\n\u001b[1;32m    152\u001b[0m       \u001b[0mfiltered_tb\u001b[0m \u001b[0;34m=\u001b[0m \u001b[0m_process_traceback_frames\u001b[0m\u001b[0;34m(\u001b[0m\u001b[0me\u001b[0m\u001b[0;34m.\u001b[0m\u001b[0m__traceback__\u001b[0m\u001b[0;34m)\u001b[0m\u001b[0;34m\u001b[0m\u001b[0;34m\u001b[0m\u001b[0m\n",
      "\u001b[0;32m/usr/local/lib/python3.7/dist-packages/tensorflow/python/eager/def_function.py\u001b[0m in \u001b[0;36m__call__\u001b[0;34m(self, *args, **kwds)\u001b[0m\n\u001b[1;32m    913\u001b[0m \u001b[0;34m\u001b[0m\u001b[0m\n\u001b[1;32m    914\u001b[0m       \u001b[0;32mwith\u001b[0m \u001b[0mOptionalXlaContext\u001b[0m\u001b[0;34m(\u001b[0m\u001b[0mself\u001b[0m\u001b[0;34m.\u001b[0m\u001b[0m_jit_compile\u001b[0m\u001b[0;34m)\u001b[0m\u001b[0;34m:\u001b[0m\u001b[0;34m\u001b[0m\u001b[0;34m\u001b[0m\u001b[0m\n\u001b[0;32m--> 915\u001b[0;31m         \u001b[0mresult\u001b[0m \u001b[0;34m=\u001b[0m \u001b[0mself\u001b[0m\u001b[0;34m.\u001b[0m\u001b[0m_call\u001b[0m\u001b[0;34m(\u001b[0m\u001b[0;34m*\u001b[0m\u001b[0margs\u001b[0m\u001b[0;34m,\u001b[0m \u001b[0;34m**\u001b[0m\u001b[0mkwds\u001b[0m\u001b[0;34m)\u001b[0m\u001b[0;34m\u001b[0m\u001b[0;34m\u001b[0m\u001b[0m\n\u001b[0m\u001b[1;32m    916\u001b[0m \u001b[0;34m\u001b[0m\u001b[0m\n\u001b[1;32m    917\u001b[0m       \u001b[0mnew_tracing_count\u001b[0m \u001b[0;34m=\u001b[0m \u001b[0mself\u001b[0m\u001b[0;34m.\u001b[0m\u001b[0mexperimental_get_tracing_count\u001b[0m\u001b[0;34m(\u001b[0m\u001b[0;34m)\u001b[0m\u001b[0;34m\u001b[0m\u001b[0;34m\u001b[0m\u001b[0m\n",
      "\u001b[0;32m/usr/local/lib/python3.7/dist-packages/tensorflow/python/eager/def_function.py\u001b[0m in \u001b[0;36m_call\u001b[0;34m(self, *args, **kwds)\u001b[0m\n\u001b[1;32m    945\u001b[0m       \u001b[0;31m# In this case we have created variables on the first call, so we run the\u001b[0m\u001b[0;34m\u001b[0m\u001b[0;34m\u001b[0m\u001b[0;34m\u001b[0m\u001b[0m\n\u001b[1;32m    946\u001b[0m       \u001b[0;31m# defunned version which is guaranteed to never create variables.\u001b[0m\u001b[0;34m\u001b[0m\u001b[0;34m\u001b[0m\u001b[0;34m\u001b[0m\u001b[0m\n\u001b[0;32m--> 947\u001b[0;31m       \u001b[0;32mreturn\u001b[0m \u001b[0mself\u001b[0m\u001b[0;34m.\u001b[0m\u001b[0m_stateless_fn\u001b[0m\u001b[0;34m(\u001b[0m\u001b[0;34m*\u001b[0m\u001b[0margs\u001b[0m\u001b[0;34m,\u001b[0m \u001b[0;34m**\u001b[0m\u001b[0mkwds\u001b[0m\u001b[0;34m)\u001b[0m  \u001b[0;31m# pylint: disable=not-callable\u001b[0m\u001b[0;34m\u001b[0m\u001b[0;34m\u001b[0m\u001b[0m\n\u001b[0m\u001b[1;32m    948\u001b[0m     \u001b[0;32melif\u001b[0m \u001b[0mself\u001b[0m\u001b[0;34m.\u001b[0m\u001b[0m_stateful_fn\u001b[0m \u001b[0;32mis\u001b[0m \u001b[0;32mnot\u001b[0m \u001b[0;32mNone\u001b[0m\u001b[0;34m:\u001b[0m\u001b[0;34m\u001b[0m\u001b[0;34m\u001b[0m\u001b[0m\n\u001b[1;32m    949\u001b[0m       \u001b[0;31m# Release the lock early so that multiple threads can perform the call\u001b[0m\u001b[0;34m\u001b[0m\u001b[0;34m\u001b[0m\u001b[0;34m\u001b[0m\u001b[0m\n",
      "\u001b[0;32m/usr/local/lib/python3.7/dist-packages/tensorflow/python/eager/function.py\u001b[0m in \u001b[0;36m__call__\u001b[0;34m(self, *args, **kwargs)\u001b[0m\n\u001b[1;32m   2955\u001b[0m        filtered_flat_args) = self._maybe_define_function(args, kwargs)\n\u001b[1;32m   2956\u001b[0m     return graph_function._call_flat(\n\u001b[0;32m-> 2957\u001b[0;31m         filtered_flat_args, captured_inputs=graph_function.captured_inputs)  # pylint: disable=protected-access\n\u001b[0m\u001b[1;32m   2958\u001b[0m \u001b[0;34m\u001b[0m\u001b[0m\n\u001b[1;32m   2959\u001b[0m   \u001b[0;34m@\u001b[0m\u001b[0mproperty\u001b[0m\u001b[0;34m\u001b[0m\u001b[0;34m\u001b[0m\u001b[0m\n",
      "\u001b[0;32m/usr/local/lib/python3.7/dist-packages/tensorflow/python/eager/function.py\u001b[0m in \u001b[0;36m_call_flat\u001b[0;34m(self, args, captured_inputs, cancellation_manager)\u001b[0m\n\u001b[1;32m   1852\u001b[0m       \u001b[0;31m# No tape is watching; skip to running the function.\u001b[0m\u001b[0;34m\u001b[0m\u001b[0;34m\u001b[0m\u001b[0;34m\u001b[0m\u001b[0m\n\u001b[1;32m   1853\u001b[0m       return self._build_call_outputs(self._inference_function.call(\n\u001b[0;32m-> 1854\u001b[0;31m           ctx, args, cancellation_manager=cancellation_manager))\n\u001b[0m\u001b[1;32m   1855\u001b[0m     forward_backward = self._select_forward_and_backward_functions(\n\u001b[1;32m   1856\u001b[0m         \u001b[0margs\u001b[0m\u001b[0;34m,\u001b[0m\u001b[0;34m\u001b[0m\u001b[0;34m\u001b[0m\u001b[0m\n",
      "\u001b[0;32m/usr/local/lib/python3.7/dist-packages/tensorflow/python/eager/function.py\u001b[0m in \u001b[0;36mcall\u001b[0;34m(self, ctx, args, cancellation_manager)\u001b[0m\n\u001b[1;32m    502\u001b[0m               \u001b[0minputs\u001b[0m\u001b[0;34m=\u001b[0m\u001b[0margs\u001b[0m\u001b[0;34m,\u001b[0m\u001b[0;34m\u001b[0m\u001b[0;34m\u001b[0m\u001b[0m\n\u001b[1;32m    503\u001b[0m               \u001b[0mattrs\u001b[0m\u001b[0;34m=\u001b[0m\u001b[0mattrs\u001b[0m\u001b[0;34m,\u001b[0m\u001b[0;34m\u001b[0m\u001b[0;34m\u001b[0m\u001b[0m\n\u001b[0;32m--> 504\u001b[0;31m               ctx=ctx)\n\u001b[0m\u001b[1;32m    505\u001b[0m         \u001b[0;32melse\u001b[0m\u001b[0;34m:\u001b[0m\u001b[0;34m\u001b[0m\u001b[0;34m\u001b[0m\u001b[0m\n\u001b[1;32m    506\u001b[0m           outputs = execute.execute_with_cancellation(\n",
      "\u001b[0;32m/usr/local/lib/python3.7/dist-packages/tensorflow/python/eager/execute.py\u001b[0m in \u001b[0;36mquick_execute\u001b[0;34m(op_name, num_outputs, inputs, attrs, ctx, name)\u001b[0m\n\u001b[1;32m     53\u001b[0m     \u001b[0mctx\u001b[0m\u001b[0;34m.\u001b[0m\u001b[0mensure_initialized\u001b[0m\u001b[0;34m(\u001b[0m\u001b[0;34m)\u001b[0m\u001b[0;34m\u001b[0m\u001b[0;34m\u001b[0m\u001b[0m\n\u001b[1;32m     54\u001b[0m     tensors = pywrap_tfe.TFE_Py_Execute(ctx._handle, device_name, op_name,\n\u001b[0;32m---> 55\u001b[0;31m                                         inputs, attrs, num_outputs)\n\u001b[0m\u001b[1;32m     56\u001b[0m   \u001b[0;32mexcept\u001b[0m \u001b[0mcore\u001b[0m\u001b[0;34m.\u001b[0m\u001b[0m_NotOkStatusException\u001b[0m \u001b[0;32mas\u001b[0m \u001b[0me\u001b[0m\u001b[0;34m:\u001b[0m\u001b[0;34m\u001b[0m\u001b[0;34m\u001b[0m\u001b[0m\n\u001b[1;32m     57\u001b[0m     \u001b[0;32mif\u001b[0m \u001b[0mname\u001b[0m \u001b[0;32mis\u001b[0m \u001b[0;32mnot\u001b[0m \u001b[0;32mNone\u001b[0m\u001b[0;34m:\u001b[0m\u001b[0;34m\u001b[0m\u001b[0;34m\u001b[0m\u001b[0m\n",
      "\u001b[0;31mKeyboardInterrupt\u001b[0m: "
     ]
    }
   ],
   "source": [
    "model.fit(\n",
    "    train_df,\n",
    "    train_y,\n",
    "    validation_data=(valid_df,valid_y),\n",
    "    epochs=100,\n",
    "    batch_size=16\n",
    ")"
   ]
  },
  {
   "cell_type": "markdown",
   "metadata": {
    "id": "vV4rHf3Gj3lZ"
   },
   "source": [
    "# 모델 : 트랜스포머 + 포지셔널 인코딩 "
   ]
  },
  {
   "cell_type": "code",
   "execution_count": null,
   "metadata": {
    "id": "AKfEyUQXkabc"
   },
   "outputs": [],
   "source": [
    "!pip install keras-nlp --upgrade"
   ]
  },
  {
   "cell_type": "code",
   "execution_count": null,
   "metadata": {
    "id": "xNE82CX8kL6s"
   },
   "outputs": [],
   "source": [
    "from  keras_nlp.layers import SinePositionEncoding\n"
   ]
  },
  {
   "cell_type": "code",
   "execution_count": null,
   "metadata": {
    "id": "6wk4REu9j5jq"
   },
   "outputs": [],
   "source": [
    "def build_model(\n",
    "    input_shape,\n",
    "    head_size,\n",
    "    num_heads,\n",
    "    ff_dim,\n",
    "    num_transformer_blocks,\n",
    "    mlp_units,\n",
    "    dropout=0,\n",
    "    mlp_dropout=0,\n",
    "):\n",
    "    inputs = keras.Input(shape=input_shape)\n",
    "    inputs = SinePositionEncoding()(inputs)\n",
    "    x = inputs\n",
    "    for _ in range(num_transformer_blocks):\n",
    "        x = transformer_encoder(x, head_size, num_heads, ff_dim, dropout)\n",
    "\n",
    "    x = layers.GlobalAveragePooling1D(data_format=\"channels_first\")(x)\n",
    "    for dim in mlp_units:\n",
    "        x = layers.Dense(dim, activation=\"relu\")(x)\n",
    "        x = layers.Dropout(mlp_dropout)(x)\n",
    "    outputs = layers.Dense(2, activation=\"softmax\")(x)\n",
    "    return keras.Model(inputs, outputs)\n",
    "\n",
    "model = build_model(\n",
    "    input_shape,\n",
    "    head_size=256,\n",
    "    num_heads=4,\n",
    "    ff_dim=4,\n",
    "    num_transformer_blocks=4,\n",
    "    mlp_units=[128],\n",
    "    mlp_dropout=0.4,\n",
    "    dropout=0.25,\n",
    ")\n",
    "\n",
    "model.compile(\n",
    "    loss=\"sparse_categorical_crossentropy\",\n",
    "    optimizer=keras.optimizers.Adam(learning_rate=1e-4),\n",
    "    metrics=[\"accuracy\"],\n",
    ")\n",
    "model.summary()"
   ]
  },
  {
   "cell_type": "code",
   "execution_count": null,
   "metadata": {
    "colab": {
     "base_uri": "https://localhost:8080/",
     "height": 1000
    },
    "executionInfo": {
     "elapsed": 1549812,
     "status": "error",
     "timestamp": 1657986335921,
     "user": {
      "displayName": "Hun",
      "userId": "07972583068794560208"
     },
     "user_tz": -540
    },
    "id": "FVhOQH9gmBWi",
    "outputId": "beb9d2fc-ea61-4cf1-9f78-22c25c981c11"
   },
   "outputs": [
    {
     "name": "stdout",
     "output_type": "stream",
     "text": [
      "Epoch 1/100\n",
      "1298/1298 [==============================] - 18s 12ms/step - loss: 0.7020 - accuracy: 0.4988 - val_loss: 0.6944 - val_accuracy: 0.5069\n",
      "Epoch 2/100\n",
      "1298/1298 [==============================] - 16s 12ms/step - loss: 0.6945 - accuracy: 0.5089 - val_loss: 0.6928 - val_accuracy: 0.5204\n",
      "Epoch 3/100\n",
      "1298/1298 [==============================] - 17s 13ms/step - loss: 0.6907 - accuracy: 0.5264 - val_loss: 0.6912 - val_accuracy: 0.5220\n",
      "Epoch 4/100\n",
      "1298/1298 [==============================] - 15s 12ms/step - loss: 0.6886 - accuracy: 0.5395 - val_loss: 0.6880 - val_accuracy: 0.5362\n",
      "Epoch 5/100\n",
      "1298/1298 [==============================] - 15s 12ms/step - loss: 0.6836 - accuracy: 0.5579 - val_loss: 0.6836 - val_accuracy: 0.5474\n",
      "Epoch 6/100\n",
      "1298/1298 [==============================] - 16s 12ms/step - loss: 0.6805 - accuracy: 0.5689 - val_loss: 0.6796 - val_accuracy: 0.5743\n",
      "Epoch 7/100\n",
      "1298/1298 [==============================] - 16s 12ms/step - loss: 0.6747 - accuracy: 0.5849 - val_loss: 0.6652 - val_accuracy: 0.6133\n",
      "Epoch 8/100\n",
      "1298/1298 [==============================] - 16s 12ms/step - loss: 0.6641 - accuracy: 0.6016 - val_loss: 0.6575 - val_accuracy: 0.6152\n",
      "Epoch 9/100\n",
      "1298/1298 [==============================] - 16s 13ms/step - loss: 0.6584 - accuracy: 0.6085 - val_loss: 0.6566 - val_accuracy: 0.6194\n",
      "Epoch 10/100\n",
      "1298/1298 [==============================] - 16s 12ms/step - loss: 0.6551 - accuracy: 0.6106 - val_loss: 0.6546 - val_accuracy: 0.6190\n",
      "Epoch 11/100\n",
      "1298/1298 [==============================] - 15s 12ms/step - loss: 0.6518 - accuracy: 0.6177 - val_loss: 0.6635 - val_accuracy: 0.6213\n",
      "Epoch 12/100\n",
      "1298/1298 [==============================] - 15s 12ms/step - loss: 0.6492 - accuracy: 0.6205 - val_loss: 0.6527 - val_accuracy: 0.6206\n",
      "Epoch 13/100\n",
      "1298/1298 [==============================] - 16s 12ms/step - loss: 0.6475 - accuracy: 0.6220 - val_loss: 0.6580 - val_accuracy: 0.6198\n",
      "Epoch 14/100\n",
      "1298/1298 [==============================] - 16s 12ms/step - loss: 0.6449 - accuracy: 0.6291 - val_loss: 0.6803 - val_accuracy: 0.6144\n",
      "Epoch 15/100\n",
      "1298/1298 [==============================] - 16s 12ms/step - loss: 0.6440 - accuracy: 0.6273 - val_loss: 0.7073 - val_accuracy: 0.5998\n",
      "Epoch 16/100\n",
      "1298/1298 [==============================] - 16s 12ms/step - loss: 0.6419 - accuracy: 0.6310 - val_loss: 0.6936 - val_accuracy: 0.6156\n",
      "Epoch 17/100\n",
      "1298/1298 [==============================] - 16s 12ms/step - loss: 0.6420 - accuracy: 0.6323 - val_loss: 0.6566 - val_accuracy: 0.6244\n",
      "Epoch 18/100\n",
      "1298/1298 [==============================] - 15s 12ms/step - loss: 0.6396 - accuracy: 0.6334 - val_loss: 0.6626 - val_accuracy: 0.6163\n",
      "Epoch 19/100\n",
      "1298/1298 [==============================] - 15s 12ms/step - loss: 0.6388 - accuracy: 0.6348 - val_loss: 0.7015 - val_accuracy: 0.5894\n",
      "Epoch 20/100\n",
      "1298/1298 [==============================] - 15s 12ms/step - loss: 0.6370 - accuracy: 0.6367 - val_loss: 0.6792 - val_accuracy: 0.6117\n",
      "Epoch 21/100\n",
      "1298/1298 [==============================] - 16s 12ms/step - loss: 0.6335 - accuracy: 0.6410 - val_loss: 0.6584 - val_accuracy: 0.6244\n",
      "Epoch 22/100\n",
      "1298/1298 [==============================] - 17s 13ms/step - loss: 0.6335 - accuracy: 0.6381 - val_loss: 0.6620 - val_accuracy: 0.6221\n",
      "Epoch 23/100\n",
      "1298/1298 [==============================] - 16s 12ms/step - loss: 0.6314 - accuracy: 0.6417 - val_loss: 0.6458 - val_accuracy: 0.6287\n",
      "Epoch 24/100\n",
      "1298/1298 [==============================] - 16s 12ms/step - loss: 0.6311 - accuracy: 0.6426 - val_loss: 0.6851 - val_accuracy: 0.6248\n",
      "Epoch 25/100\n",
      "1298/1298 [==============================] - 16s 12ms/step - loss: 0.6285 - accuracy: 0.6468 - val_loss: 0.6544 - val_accuracy: 0.6148\n",
      "Epoch 26/100\n",
      "1298/1298 [==============================] - 15s 12ms/step - loss: 0.6254 - accuracy: 0.6462 - val_loss: 0.6918 - val_accuracy: 0.6244\n",
      "Epoch 27/100\n",
      "1298/1298 [==============================] - 15s 12ms/step - loss: 0.6239 - accuracy: 0.6497 - val_loss: 0.6501 - val_accuracy: 0.6456\n",
      "Epoch 28/100\n",
      "1298/1298 [==============================] - 16s 13ms/step - loss: 0.6225 - accuracy: 0.6504 - val_loss: 0.6555 - val_accuracy: 0.6383\n",
      "Epoch 29/100\n",
      "1298/1298 [==============================] - 16s 12ms/step - loss: 0.6190 - accuracy: 0.6569 - val_loss: 0.6957 - val_accuracy: 0.6125\n",
      "Epoch 30/100\n",
      "1298/1298 [==============================] - 15s 12ms/step - loss: 0.6163 - accuracy: 0.6545 - val_loss: 0.6944 - val_accuracy: 0.6391\n",
      "Epoch 31/100\n",
      "1298/1298 [==============================] - 15s 12ms/step - loss: 0.6124 - accuracy: 0.6643 - val_loss: 0.6425 - val_accuracy: 0.6572\n",
      "Epoch 32/100\n",
      "1298/1298 [==============================] - 16s 12ms/step - loss: 0.6065 - accuracy: 0.6699 - val_loss: 0.7008 - val_accuracy: 0.6518\n",
      "Epoch 33/100\n",
      "1298/1298 [==============================] - 16s 12ms/step - loss: 0.6043 - accuracy: 0.6714 - val_loss: 0.6340 - val_accuracy: 0.6633\n",
      "Epoch 34/100\n",
      "1298/1298 [==============================] - 16s 13ms/step - loss: 0.6008 - accuracy: 0.6740 - val_loss: 0.6621 - val_accuracy: 0.6614\n",
      "Epoch 35/100\n",
      "1298/1298 [==============================] - 16s 12ms/step - loss: 0.5976 - accuracy: 0.6797 - val_loss: 0.6205 - val_accuracy: 0.6703\n",
      "Epoch 36/100\n",
      "1298/1298 [==============================] - 15s 12ms/step - loss: 0.5965 - accuracy: 0.6813 - val_loss: 0.6148 - val_accuracy: 0.6699\n",
      "Epoch 37/100\n",
      "1298/1298 [==============================] - 15s 12ms/step - loss: 0.5923 - accuracy: 0.6813 - val_loss: 0.6228 - val_accuracy: 0.6691\n",
      "Epoch 38/100\n",
      "1298/1298 [==============================] - 15s 12ms/step - loss: 0.5909 - accuracy: 0.6831 - val_loss: 0.6150 - val_accuracy: 0.6722\n",
      "Epoch 39/100\n",
      "1298/1298 [==============================] - 15s 12ms/step - loss: 0.5902 - accuracy: 0.6846 - val_loss: 0.6089 - val_accuracy: 0.6706\n",
      "Epoch 40/100\n",
      "1298/1298 [==============================] - 19s 14ms/step - loss: 0.5867 - accuracy: 0.6872 - val_loss: 0.6202 - val_accuracy: 0.6706\n",
      "Epoch 41/100\n",
      "1298/1298 [==============================] - 16s 13ms/step - loss: 0.5860 - accuracy: 0.6872 - val_loss: 0.6465 - val_accuracy: 0.6772\n",
      "Epoch 42/100\n",
      "1298/1298 [==============================] - 16s 12ms/step - loss: 0.5848 - accuracy: 0.6896 - val_loss: 0.6350 - val_accuracy: 0.6726\n",
      "Epoch 43/100\n",
      "1298/1298 [==============================] - 15s 12ms/step - loss: 0.5836 - accuracy: 0.6913 - val_loss: 0.6209 - val_accuracy: 0.6695\n",
      "Epoch 44/100\n",
      "1298/1298 [==============================] - 16s 12ms/step - loss: 0.5835 - accuracy: 0.6894 - val_loss: 0.6030 - val_accuracy: 0.6710\n",
      "Epoch 45/100\n",
      "1298/1298 [==============================] - 16s 12ms/step - loss: 0.5822 - accuracy: 0.6912 - val_loss: 0.6205 - val_accuracy: 0.6703\n",
      "Epoch 46/100\n",
      "1298/1298 [==============================] - 16s 13ms/step - loss: 0.5816 - accuracy: 0.6934 - val_loss: 0.6127 - val_accuracy: 0.6799\n",
      "Epoch 47/100\n",
      "1298/1298 [==============================] - 16s 12ms/step - loss: 0.5793 - accuracy: 0.6930 - val_loss: 0.6259 - val_accuracy: 0.6780\n",
      "Epoch 48/100\n",
      "1298/1298 [==============================] - 16s 12ms/step - loss: 0.5785 - accuracy: 0.6958 - val_loss: 0.6401 - val_accuracy: 0.6730\n",
      "Epoch 49/100\n",
      "1298/1298 [==============================] - 15s 12ms/step - loss: 0.5765 - accuracy: 0.6955 - val_loss: 0.6075 - val_accuracy: 0.6837\n",
      "Epoch 50/100\n",
      "1298/1298 [==============================] - 15s 12ms/step - loss: 0.5768 - accuracy: 0.6966 - val_loss: 0.6224 - val_accuracy: 0.6810\n",
      "Epoch 51/100\n",
      "1298/1298 [==============================] - 15s 12ms/step - loss: 0.5746 - accuracy: 0.6979 - val_loss: 0.6187 - val_accuracy: 0.6822\n",
      "Epoch 52/100\n",
      "1298/1298 [==============================] - 15s 12ms/step - loss: 0.5731 - accuracy: 0.6967 - val_loss: 0.6090 - val_accuracy: 0.6791\n",
      "Epoch 53/100\n",
      "1298/1298 [==============================] - 16s 13ms/step - loss: 0.5729 - accuracy: 0.6952 - val_loss: 0.6164 - val_accuracy: 0.6772\n",
      "Epoch 54/100\n",
      "1298/1298 [==============================] - 16s 12ms/step - loss: 0.5738 - accuracy: 0.6991 - val_loss: 0.6425 - val_accuracy: 0.6722\n",
      "Epoch 55/100\n",
      "1298/1298 [==============================] - 15s 12ms/step - loss: 0.5702 - accuracy: 0.7036 - val_loss: 0.6163 - val_accuracy: 0.6726\n",
      "Epoch 56/100\n",
      "1298/1298 [==============================] - 15s 12ms/step - loss: 0.5714 - accuracy: 0.7010 - val_loss: 0.6165 - val_accuracy: 0.6668\n",
      "Epoch 57/100\n",
      "1298/1298 [==============================] - 15s 12ms/step - loss: 0.5715 - accuracy: 0.7015 - val_loss: 0.6097 - val_accuracy: 0.6737\n",
      "Epoch 58/100\n",
      "1298/1298 [==============================] - 15s 12ms/step - loss: 0.5692 - accuracy: 0.7037 - val_loss: 0.5965 - val_accuracy: 0.6876\n",
      "Epoch 59/100\n",
      "1298/1298 [==============================] - 17s 13ms/step - loss: 0.5678 - accuracy: 0.7049 - val_loss: 0.6105 - val_accuracy: 0.6749\n",
      "Epoch 60/100\n",
      "1298/1298 [==============================] - 15s 12ms/step - loss: 0.5676 - accuracy: 0.7051 - val_loss: 0.6153 - val_accuracy: 0.6718\n",
      "Epoch 61/100\n",
      "1298/1298 [==============================] - 16s 12ms/step - loss: 0.5674 - accuracy: 0.7043 - val_loss: 0.6278 - val_accuracy: 0.6791\n",
      "Epoch 62/100\n",
      "1298/1298 [==============================] - 15s 12ms/step - loss: 0.5659 - accuracy: 0.7034 - val_loss: 0.6232 - val_accuracy: 0.6787\n",
      "Epoch 63/100\n",
      "1298/1298 [==============================] - 16s 12ms/step - loss: 0.5644 - accuracy: 0.7035 - val_loss: 0.6038 - val_accuracy: 0.6830\n",
      "Epoch 64/100\n",
      "1298/1298 [==============================] - 15s 12ms/step - loss: 0.5634 - accuracy: 0.7060 - val_loss: 0.6135 - val_accuracy: 0.6745\n",
      "Epoch 65/100\n",
      "1298/1298 [==============================] - 17s 13ms/step - loss: 0.5637 - accuracy: 0.7072 - val_loss: 0.6375 - val_accuracy: 0.6683\n",
      "Epoch 66/100\n",
      "1298/1298 [==============================] - 16s 12ms/step - loss: 0.5633 - accuracy: 0.7101 - val_loss: 0.6018 - val_accuracy: 0.6807\n",
      "Epoch 67/100\n",
      "1298/1298 [==============================] - 16s 12ms/step - loss: 0.5614 - accuracy: 0.7098 - val_loss: 0.6224 - val_accuracy: 0.6764\n",
      "Epoch 68/100\n",
      "1298/1298 [==============================] - 15s 12ms/step - loss: 0.5631 - accuracy: 0.7089 - val_loss: 0.6173 - val_accuracy: 0.6568\n",
      "Epoch 69/100\n",
      "1298/1298 [==============================] - 15s 12ms/step - loss: 0.5600 - accuracy: 0.7129 - val_loss: 0.6291 - val_accuracy: 0.6683\n",
      "Epoch 70/100\n",
      "1298/1298 [==============================] - 16s 12ms/step - loss: 0.5578 - accuracy: 0.7113 - val_loss: 0.6031 - val_accuracy: 0.6706\n",
      "Epoch 71/100\n",
      "1298/1298 [==============================] - 16s 13ms/step - loss: 0.5589 - accuracy: 0.7103 - val_loss: 0.6195 - val_accuracy: 0.6733\n",
      "Epoch 72/100\n",
      "1298/1298 [==============================] - 16s 12ms/step - loss: 0.5555 - accuracy: 0.7137 - val_loss: 0.6115 - val_accuracy: 0.6664\n",
      "Epoch 73/100\n",
      "1298/1298 [==============================] - 15s 12ms/step - loss: 0.5554 - accuracy: 0.7120 - val_loss: 0.6245 - val_accuracy: 0.6787\n",
      "Epoch 74/100\n",
      "1298/1298 [==============================] - 15s 12ms/step - loss: 0.5558 - accuracy: 0.7145 - val_loss: 0.6091 - val_accuracy: 0.6710\n",
      "Epoch 75/100\n",
      "1298/1298 [==============================] - 15s 12ms/step - loss: 0.5550 - accuracy: 0.7148 - val_loss: 0.6194 - val_accuracy: 0.6726\n",
      "Epoch 76/100\n",
      "1298/1298 [==============================] - 23s 17ms/step - loss: 0.5551 - accuracy: 0.7123 - val_loss: 0.6217 - val_accuracy: 0.6730\n",
      "Epoch 77/100\n",
      "1298/1298 [==============================] - 21s 16ms/step - loss: 0.5520 - accuracy: 0.7158 - val_loss: 0.6433 - val_accuracy: 0.6703\n",
      "Epoch 78/100\n",
      "1298/1298 [==============================] - 20s 16ms/step - loss: 0.5525 - accuracy: 0.7163 - val_loss: 0.6086 - val_accuracy: 0.6757\n",
      "Epoch 79/100\n",
      "1298/1298 [==============================] - 20s 15ms/step - loss: 0.5506 - accuracy: 0.7192 - val_loss: 0.6099 - val_accuracy: 0.6791\n",
      "Epoch 80/100\n",
      "1298/1298 [==============================] - 19s 15ms/step - loss: 0.5505 - accuracy: 0.7174 - val_loss: 0.6241 - val_accuracy: 0.6764\n",
      "Epoch 81/100\n",
      "1298/1298 [==============================] - 22s 17ms/step - loss: 0.5492 - accuracy: 0.7196 - val_loss: 0.6245 - val_accuracy: 0.6683\n",
      "Epoch 82/100\n",
      "1298/1298 [==============================] - 22s 17ms/step - loss: 0.5491 - accuracy: 0.7192 - val_loss: 0.6237 - val_accuracy: 0.6660\n",
      "Epoch 83/100\n",
      "1298/1298 [==============================] - 16s 12ms/step - loss: 0.5488 - accuracy: 0.7183 - val_loss: 0.6553 - val_accuracy: 0.6737\n",
      "Epoch 84/100\n",
      "1298/1298 [==============================] - 16s 12ms/step - loss: 0.5477 - accuracy: 0.7166 - val_loss: 0.6475 - val_accuracy: 0.6714\n",
      "Epoch 85/100\n",
      "1298/1298 [==============================] - 17s 13ms/step - loss: 0.5432 - accuracy: 0.7218 - val_loss: 0.6279 - val_accuracy: 0.6726\n",
      "Epoch 86/100\n",
      "1298/1298 [==============================] - 17s 13ms/step - loss: 0.5445 - accuracy: 0.7201 - val_loss: 0.6370 - val_accuracy: 0.6718\n",
      "Epoch 87/100\n",
      "1298/1298 [==============================] - 16s 13ms/step - loss: 0.5413 - accuracy: 0.7285 - val_loss: 0.6236 - val_accuracy: 0.6768\n",
      "Epoch 88/100\n",
      "1298/1298 [==============================] - 16s 13ms/step - loss: 0.5421 - accuracy: 0.7232 - val_loss: 0.6131 - val_accuracy: 0.6726\n",
      "Epoch 89/100\n",
      "1298/1298 [==============================] - 16s 12ms/step - loss: 0.5427 - accuracy: 0.7249 - val_loss: 0.6357 - val_accuracy: 0.6753\n",
      "Epoch 90/100\n",
      "1298/1298 [==============================] - 15s 12ms/step - loss: 0.5416 - accuracy: 0.7250 - val_loss: 0.6651 - val_accuracy: 0.6737\n",
      "Epoch 91/100\n",
      "1298/1298 [==============================] - 16s 12ms/step - loss: 0.5385 - accuracy: 0.7272 - val_loss: 0.6375 - val_accuracy: 0.6814\n",
      "Epoch 92/100\n",
      "1298/1298 [==============================] - 15s 12ms/step - loss: 0.5391 - accuracy: 0.7281 - val_loss: 0.6178 - val_accuracy: 0.6757\n",
      "Epoch 93/100\n",
      "1298/1298 [==============================] - 15s 12ms/step - loss: 0.5379 - accuracy: 0.7243 - val_loss: 0.6221 - val_accuracy: 0.6660\n",
      "Epoch 94/100\n",
      "1298/1298 [==============================] - 16s 12ms/step - loss: 0.5354 - accuracy: 0.7296 - val_loss: 0.6417 - val_accuracy: 0.6818\n",
      "Epoch 95/100\n",
      "1298/1298 [==============================] - 17s 13ms/step - loss: 0.5348 - accuracy: 0.7279 - val_loss: 0.7044 - val_accuracy: 0.6787\n",
      "Epoch 96/100\n",
      " 972/1298 [=====================>........] - ETA: 3s - loss: 0.5360 - accuracy: 0.7286"
     ]
    },
    {
     "ename": "KeyboardInterrupt",
     "evalue": "ignored",
     "output_type": "error",
     "traceback": [
      "\u001b[0;31m---------------------------------------------------------------------------\u001b[0m",
      "\u001b[0;31mKeyboardInterrupt\u001b[0m                         Traceback (most recent call last)",
      "\u001b[0;32m<ipython-input-136-d0be928aa256>\u001b[0m in \u001b[0;36m<module>\u001b[0;34m()\u001b[0m\n\u001b[1;32m      4\u001b[0m     \u001b[0mvalidation_data\u001b[0m\u001b[0;34m=\u001b[0m\u001b[0;34m(\u001b[0m\u001b[0mvalid_df\u001b[0m\u001b[0;34m,\u001b[0m\u001b[0mvalid_y\u001b[0m\u001b[0;34m)\u001b[0m\u001b[0;34m,\u001b[0m\u001b[0;34m\u001b[0m\u001b[0;34m\u001b[0m\u001b[0m\n\u001b[1;32m      5\u001b[0m     \u001b[0mepochs\u001b[0m\u001b[0;34m=\u001b[0m\u001b[0;36m100\u001b[0m\u001b[0;34m,\u001b[0m\u001b[0;34m\u001b[0m\u001b[0;34m\u001b[0m\u001b[0m\n\u001b[0;32m----> 6\u001b[0;31m     \u001b[0mbatch_size\u001b[0m\u001b[0;34m=\u001b[0m\u001b[0;36m16\u001b[0m\u001b[0;34m\u001b[0m\u001b[0;34m\u001b[0m\u001b[0m\n\u001b[0m\u001b[1;32m      7\u001b[0m )\n",
      "\u001b[0;32m/usr/local/lib/python3.7/dist-packages/keras/utils/traceback_utils.py\u001b[0m in \u001b[0;36merror_handler\u001b[0;34m(*args, **kwargs)\u001b[0m\n\u001b[1;32m     62\u001b[0m     \u001b[0mfiltered_tb\u001b[0m \u001b[0;34m=\u001b[0m \u001b[0;32mNone\u001b[0m\u001b[0;34m\u001b[0m\u001b[0;34m\u001b[0m\u001b[0m\n\u001b[1;32m     63\u001b[0m     \u001b[0;32mtry\u001b[0m\u001b[0;34m:\u001b[0m\u001b[0;34m\u001b[0m\u001b[0;34m\u001b[0m\u001b[0m\n\u001b[0;32m---> 64\u001b[0;31m       \u001b[0;32mreturn\u001b[0m \u001b[0mfn\u001b[0m\u001b[0;34m(\u001b[0m\u001b[0;34m*\u001b[0m\u001b[0margs\u001b[0m\u001b[0;34m,\u001b[0m \u001b[0;34m**\u001b[0m\u001b[0mkwargs\u001b[0m\u001b[0;34m)\u001b[0m\u001b[0;34m\u001b[0m\u001b[0;34m\u001b[0m\u001b[0m\n\u001b[0m\u001b[1;32m     65\u001b[0m     \u001b[0;32mexcept\u001b[0m \u001b[0mException\u001b[0m \u001b[0;32mas\u001b[0m \u001b[0me\u001b[0m\u001b[0;34m:\u001b[0m  \u001b[0;31m# pylint: disable=broad-except\u001b[0m\u001b[0;34m\u001b[0m\u001b[0;34m\u001b[0m\u001b[0m\n\u001b[1;32m     66\u001b[0m       \u001b[0mfiltered_tb\u001b[0m \u001b[0;34m=\u001b[0m \u001b[0m_process_traceback_frames\u001b[0m\u001b[0;34m(\u001b[0m\u001b[0me\u001b[0m\u001b[0;34m.\u001b[0m\u001b[0m__traceback__\u001b[0m\u001b[0;34m)\u001b[0m\u001b[0;34m\u001b[0m\u001b[0;34m\u001b[0m\u001b[0m\n",
      "\u001b[0;32m/usr/local/lib/python3.7/dist-packages/keras/engine/training.py\u001b[0m in \u001b[0;36mfit\u001b[0;34m(self, x, y, batch_size, epochs, verbose, callbacks, validation_split, validation_data, shuffle, class_weight, sample_weight, initial_epoch, steps_per_epoch, validation_steps, validation_batch_size, validation_freq, max_queue_size, workers, use_multiprocessing)\u001b[0m\n\u001b[1;32m   1382\u001b[0m                 _r=1):\n\u001b[1;32m   1383\u001b[0m               \u001b[0mcallbacks\u001b[0m\u001b[0;34m.\u001b[0m\u001b[0mon_train_batch_begin\u001b[0m\u001b[0;34m(\u001b[0m\u001b[0mstep\u001b[0m\u001b[0;34m)\u001b[0m\u001b[0;34m\u001b[0m\u001b[0;34m\u001b[0m\u001b[0m\n\u001b[0;32m-> 1384\u001b[0;31m               \u001b[0mtmp_logs\u001b[0m \u001b[0;34m=\u001b[0m \u001b[0mself\u001b[0m\u001b[0;34m.\u001b[0m\u001b[0mtrain_function\u001b[0m\u001b[0;34m(\u001b[0m\u001b[0miterator\u001b[0m\u001b[0;34m)\u001b[0m\u001b[0;34m\u001b[0m\u001b[0;34m\u001b[0m\u001b[0m\n\u001b[0m\u001b[1;32m   1385\u001b[0m               \u001b[0;32mif\u001b[0m \u001b[0mdata_handler\u001b[0m\u001b[0;34m.\u001b[0m\u001b[0mshould_sync\u001b[0m\u001b[0;34m:\u001b[0m\u001b[0;34m\u001b[0m\u001b[0;34m\u001b[0m\u001b[0m\n\u001b[1;32m   1386\u001b[0m                 \u001b[0mcontext\u001b[0m\u001b[0;34m.\u001b[0m\u001b[0masync_wait\u001b[0m\u001b[0;34m(\u001b[0m\u001b[0;34m)\u001b[0m\u001b[0;34m\u001b[0m\u001b[0;34m\u001b[0m\u001b[0m\n",
      "\u001b[0;32m/usr/local/lib/python3.7/dist-packages/tensorflow/python/util/traceback_utils.py\u001b[0m in \u001b[0;36merror_handler\u001b[0;34m(*args, **kwargs)\u001b[0m\n\u001b[1;32m    148\u001b[0m     \u001b[0mfiltered_tb\u001b[0m \u001b[0;34m=\u001b[0m \u001b[0;32mNone\u001b[0m\u001b[0;34m\u001b[0m\u001b[0;34m\u001b[0m\u001b[0m\n\u001b[1;32m    149\u001b[0m     \u001b[0;32mtry\u001b[0m\u001b[0;34m:\u001b[0m\u001b[0;34m\u001b[0m\u001b[0;34m\u001b[0m\u001b[0m\n\u001b[0;32m--> 150\u001b[0;31m       \u001b[0;32mreturn\u001b[0m \u001b[0mfn\u001b[0m\u001b[0;34m(\u001b[0m\u001b[0;34m*\u001b[0m\u001b[0margs\u001b[0m\u001b[0;34m,\u001b[0m \u001b[0;34m**\u001b[0m\u001b[0mkwargs\u001b[0m\u001b[0;34m)\u001b[0m\u001b[0;34m\u001b[0m\u001b[0;34m\u001b[0m\u001b[0m\n\u001b[0m\u001b[1;32m    151\u001b[0m     \u001b[0;32mexcept\u001b[0m \u001b[0mException\u001b[0m \u001b[0;32mas\u001b[0m \u001b[0me\u001b[0m\u001b[0;34m:\u001b[0m\u001b[0;34m\u001b[0m\u001b[0;34m\u001b[0m\u001b[0m\n\u001b[1;32m    152\u001b[0m       \u001b[0mfiltered_tb\u001b[0m \u001b[0;34m=\u001b[0m \u001b[0m_process_traceback_frames\u001b[0m\u001b[0;34m(\u001b[0m\u001b[0me\u001b[0m\u001b[0;34m.\u001b[0m\u001b[0m__traceback__\u001b[0m\u001b[0;34m)\u001b[0m\u001b[0;34m\u001b[0m\u001b[0;34m\u001b[0m\u001b[0m\n",
      "\u001b[0;32m/usr/local/lib/python3.7/dist-packages/tensorflow/python/eager/def_function.py\u001b[0m in \u001b[0;36m__call__\u001b[0;34m(self, *args, **kwds)\u001b[0m\n\u001b[1;32m    913\u001b[0m \u001b[0;34m\u001b[0m\u001b[0m\n\u001b[1;32m    914\u001b[0m       \u001b[0;32mwith\u001b[0m \u001b[0mOptionalXlaContext\u001b[0m\u001b[0;34m(\u001b[0m\u001b[0mself\u001b[0m\u001b[0;34m.\u001b[0m\u001b[0m_jit_compile\u001b[0m\u001b[0;34m)\u001b[0m\u001b[0;34m:\u001b[0m\u001b[0;34m\u001b[0m\u001b[0;34m\u001b[0m\u001b[0m\n\u001b[0;32m--> 915\u001b[0;31m         \u001b[0mresult\u001b[0m \u001b[0;34m=\u001b[0m \u001b[0mself\u001b[0m\u001b[0;34m.\u001b[0m\u001b[0m_call\u001b[0m\u001b[0;34m(\u001b[0m\u001b[0;34m*\u001b[0m\u001b[0margs\u001b[0m\u001b[0;34m,\u001b[0m \u001b[0;34m**\u001b[0m\u001b[0mkwds\u001b[0m\u001b[0;34m)\u001b[0m\u001b[0;34m\u001b[0m\u001b[0;34m\u001b[0m\u001b[0m\n\u001b[0m\u001b[1;32m    916\u001b[0m \u001b[0;34m\u001b[0m\u001b[0m\n\u001b[1;32m    917\u001b[0m       \u001b[0mnew_tracing_count\u001b[0m \u001b[0;34m=\u001b[0m \u001b[0mself\u001b[0m\u001b[0;34m.\u001b[0m\u001b[0mexperimental_get_tracing_count\u001b[0m\u001b[0;34m(\u001b[0m\u001b[0;34m)\u001b[0m\u001b[0;34m\u001b[0m\u001b[0;34m\u001b[0m\u001b[0m\n",
      "\u001b[0;32m/usr/local/lib/python3.7/dist-packages/tensorflow/python/eager/def_function.py\u001b[0m in \u001b[0;36m_call\u001b[0;34m(self, *args, **kwds)\u001b[0m\n\u001b[1;32m    945\u001b[0m       \u001b[0;31m# In this case we have created variables on the first call, so we run the\u001b[0m\u001b[0;34m\u001b[0m\u001b[0;34m\u001b[0m\u001b[0;34m\u001b[0m\u001b[0m\n\u001b[1;32m    946\u001b[0m       \u001b[0;31m# defunned version which is guaranteed to never create variables.\u001b[0m\u001b[0;34m\u001b[0m\u001b[0;34m\u001b[0m\u001b[0;34m\u001b[0m\u001b[0m\n\u001b[0;32m--> 947\u001b[0;31m       \u001b[0;32mreturn\u001b[0m \u001b[0mself\u001b[0m\u001b[0;34m.\u001b[0m\u001b[0m_stateless_fn\u001b[0m\u001b[0;34m(\u001b[0m\u001b[0;34m*\u001b[0m\u001b[0margs\u001b[0m\u001b[0;34m,\u001b[0m \u001b[0;34m**\u001b[0m\u001b[0mkwds\u001b[0m\u001b[0;34m)\u001b[0m  \u001b[0;31m# pylint: disable=not-callable\u001b[0m\u001b[0;34m\u001b[0m\u001b[0;34m\u001b[0m\u001b[0m\n\u001b[0m\u001b[1;32m    948\u001b[0m     \u001b[0;32melif\u001b[0m \u001b[0mself\u001b[0m\u001b[0;34m.\u001b[0m\u001b[0m_stateful_fn\u001b[0m \u001b[0;32mis\u001b[0m \u001b[0;32mnot\u001b[0m \u001b[0;32mNone\u001b[0m\u001b[0;34m:\u001b[0m\u001b[0;34m\u001b[0m\u001b[0;34m\u001b[0m\u001b[0m\n\u001b[1;32m    949\u001b[0m       \u001b[0;31m# Release the lock early so that multiple threads can perform the call\u001b[0m\u001b[0;34m\u001b[0m\u001b[0;34m\u001b[0m\u001b[0;34m\u001b[0m\u001b[0m\n",
      "\u001b[0;32m/usr/local/lib/python3.7/dist-packages/tensorflow/python/eager/function.py\u001b[0m in \u001b[0;36m__call__\u001b[0;34m(self, *args, **kwargs)\u001b[0m\n\u001b[1;32m   2955\u001b[0m        filtered_flat_args) = self._maybe_define_function(args, kwargs)\n\u001b[1;32m   2956\u001b[0m     return graph_function._call_flat(\n\u001b[0;32m-> 2957\u001b[0;31m         filtered_flat_args, captured_inputs=graph_function.captured_inputs)  # pylint: disable=protected-access\n\u001b[0m\u001b[1;32m   2958\u001b[0m \u001b[0;34m\u001b[0m\u001b[0m\n\u001b[1;32m   2959\u001b[0m   \u001b[0;34m@\u001b[0m\u001b[0mproperty\u001b[0m\u001b[0;34m\u001b[0m\u001b[0;34m\u001b[0m\u001b[0m\n",
      "\u001b[0;32m/usr/local/lib/python3.7/dist-packages/tensorflow/python/eager/function.py\u001b[0m in \u001b[0;36m_call_flat\u001b[0;34m(self, args, captured_inputs, cancellation_manager)\u001b[0m\n\u001b[1;32m   1852\u001b[0m       \u001b[0;31m# No tape is watching; skip to running the function.\u001b[0m\u001b[0;34m\u001b[0m\u001b[0;34m\u001b[0m\u001b[0;34m\u001b[0m\u001b[0m\n\u001b[1;32m   1853\u001b[0m       return self._build_call_outputs(self._inference_function.call(\n\u001b[0;32m-> 1854\u001b[0;31m           ctx, args, cancellation_manager=cancellation_manager))\n\u001b[0m\u001b[1;32m   1855\u001b[0m     forward_backward = self._select_forward_and_backward_functions(\n\u001b[1;32m   1856\u001b[0m         \u001b[0margs\u001b[0m\u001b[0;34m,\u001b[0m\u001b[0;34m\u001b[0m\u001b[0;34m\u001b[0m\u001b[0m\n",
      "\u001b[0;32m/usr/local/lib/python3.7/dist-packages/tensorflow/python/eager/function.py\u001b[0m in \u001b[0;36mcall\u001b[0;34m(self, ctx, args, cancellation_manager)\u001b[0m\n\u001b[1;32m    502\u001b[0m               \u001b[0minputs\u001b[0m\u001b[0;34m=\u001b[0m\u001b[0margs\u001b[0m\u001b[0;34m,\u001b[0m\u001b[0;34m\u001b[0m\u001b[0;34m\u001b[0m\u001b[0m\n\u001b[1;32m    503\u001b[0m               \u001b[0mattrs\u001b[0m\u001b[0;34m=\u001b[0m\u001b[0mattrs\u001b[0m\u001b[0;34m,\u001b[0m\u001b[0;34m\u001b[0m\u001b[0;34m\u001b[0m\u001b[0m\n\u001b[0;32m--> 504\u001b[0;31m               ctx=ctx)\n\u001b[0m\u001b[1;32m    505\u001b[0m         \u001b[0;32melse\u001b[0m\u001b[0;34m:\u001b[0m\u001b[0;34m\u001b[0m\u001b[0;34m\u001b[0m\u001b[0m\n\u001b[1;32m    506\u001b[0m           outputs = execute.execute_with_cancellation(\n",
      "\u001b[0;32m/usr/local/lib/python3.7/dist-packages/tensorflow/python/eager/execute.py\u001b[0m in \u001b[0;36mquick_execute\u001b[0;34m(op_name, num_outputs, inputs, attrs, ctx, name)\u001b[0m\n\u001b[1;32m     53\u001b[0m     \u001b[0mctx\u001b[0m\u001b[0;34m.\u001b[0m\u001b[0mensure_initialized\u001b[0m\u001b[0;34m(\u001b[0m\u001b[0;34m)\u001b[0m\u001b[0;34m\u001b[0m\u001b[0;34m\u001b[0m\u001b[0m\n\u001b[1;32m     54\u001b[0m     tensors = pywrap_tfe.TFE_Py_Execute(ctx._handle, device_name, op_name,\n\u001b[0;32m---> 55\u001b[0;31m                                         inputs, attrs, num_outputs)\n\u001b[0m\u001b[1;32m     56\u001b[0m   \u001b[0;32mexcept\u001b[0m \u001b[0mcore\u001b[0m\u001b[0;34m.\u001b[0m\u001b[0m_NotOkStatusException\u001b[0m \u001b[0;32mas\u001b[0m \u001b[0me\u001b[0m\u001b[0;34m:\u001b[0m\u001b[0;34m\u001b[0m\u001b[0;34m\u001b[0m\u001b[0m\n\u001b[1;32m     57\u001b[0m     \u001b[0;32mif\u001b[0m \u001b[0mname\u001b[0m \u001b[0;32mis\u001b[0m \u001b[0;32mnot\u001b[0m \u001b[0;32mNone\u001b[0m\u001b[0;34m:\u001b[0m\u001b[0;34m\u001b[0m\u001b[0;34m\u001b[0m\u001b[0m\n",
      "\u001b[0;31mKeyboardInterrupt\u001b[0m: "
     ]
    }
   ],
   "source": [
    "model.fit(\n",
    "    train_df,\n",
    "    train_y,\n",
    "    validation_data=(valid_df,valid_y),\n",
    "    epochs=100,\n",
    "    batch_size=16\n",
    ")\n",
    "\n",
    "\n",
    "from tensorflow import keras"
   ]
  }
 ],
 "metadata": {
  "accelerator": "GPU",
  "colab": {
   "authorship_tag": "ABX9TyM4yleeaT3OEMejNnHEgyFq",
   "collapsed_sections": [],
   "mount_file_id": "1Cmm6JDo7WP8xKZLCw93lfJvLIhbHND7K",
   "name": "4회차.ipynb",
   "provenance": [],
   "toc_visible": true
  },
  "gpuClass": "standard",
  "kernelspec": {
   "display_name": "Python 3 (ipykernel)",
   "language": "python",
   "name": "python3"
  },
  "language_info": {
   "codemirror_mode": {
    "name": "ipython",
    "version": 3
   },
   "file_extension": ".py",
   "mimetype": "text/x-python",
   "name": "python",
   "nbconvert_exporter": "python",
   "pygments_lexer": "ipython3",
   "version": "3.8.10"
  }
 },
 "nbformat": 4,
 "nbformat_minor": 4
}
